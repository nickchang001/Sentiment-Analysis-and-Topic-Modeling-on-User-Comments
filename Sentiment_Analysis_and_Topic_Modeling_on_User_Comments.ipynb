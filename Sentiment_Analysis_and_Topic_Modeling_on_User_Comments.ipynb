{
  "nbformat": 4,
  "nbformat_minor": 0,
  "metadata": {
    "colab": {
      "name": "Sentiment Analysis and Topic Modeling on User Comments.ipynb",
      "provenance": [],
      "collapsed_sections": [
        "STwwMNZvw1uR",
        "VReGoQX0SplX"
      ],
      "mount_file_id": "1Okg42oP18nu0z-nfg6HHnNnlNnvvoqiI",
      "authorship_tag": "ABX9TyNgTAmLCoA7yfnzQ/5Jbcjh",
      "include_colab_link": true
    },
    "kernelspec": {
      "display_name": "Python 3",
      "name": "python3"
    },
    "accelerator": "GPU"
  },
  "cells": [
    {
      "cell_type": "markdown",
      "metadata": {
        "id": "view-in-github",
        "colab_type": "text"
      },
      "source": [
        "<a href=\"https://colab.research.google.com/github/nickchang001/Sentiment-Analysis-and-Topic-Modeling-on-User-Comments/blob/main/Sentiment_Analysis_and_Topic_Modeling_on_User_Comments.ipynb\" target=\"_parent\"><img src=\"https://colab.research.google.com/assets/colab-badge.svg\" alt=\"Open In Colab\"/></a>"
      ]
    },
    {
      "cell_type": "markdown",
      "metadata": {
        "id": "XOmAbJHriYk7"
      },
      "source": [
        "#Youtube User Comments Analysis\n",
        "\n",
        "In this project, we use NLP techniques such as LDA, word2vec and glove to analyze about 5.2M user comments (Unlabled data) from Youtube animal related channels. Base on the comments, we will attempt to identify if they are cat or dog ownser and find out the topic important to them. And identify the youtubers with most viewers that are cat or dog owners."
      ]
    },
    {
      "cell_type": "markdown",
      "metadata": {
        "id": "zmZ8Uh7akSiO"
      },
      "source": [
        "#Contents\n",
        "\n",
        "* Part 0: Load data\n",
        "* Part 1: Data Exploration and Cleaning\n",
        "\n"
      ]
    },
    {
      "cell_type": "markdown",
      "metadata": {
        "id": "skR9v_GKlLhc"
      },
      "source": [
        "#Part 0: Set up Pyspark Environment And Load Data"
      ]
    },
    {
      "cell_type": "code",
      "metadata": {
        "id": "f7VSQCauhzJp"
      },
      "source": [
        "#install Pyspark\n",
        "!apt-get update\n",
        "\n",
        "#Download Java b/c spark is written in Scala language and require Java Virtual Mcahine (JVM) to run.\n",
        "!apt-get install openjdk-8-jdk-headless -qq > /dev/null\n",
        "\n",
        "#Install spark 3.0.2 with Hadoop 2.7\n",
        "!wget -q http://apache.forsale.plus/spark/spark-3.0.2/spark-3.0.2-bin-hadoop2.7.tgz\n",
        "!tar xf spark-3.0.2-bin-hadoop2.7.tgz\n",
        "!wget -q http://apache.mirrors.pair.com/spark/spark-3.0.2/spark-3.0.2-bin-hadoop2.7.tgz\n",
        "\n",
        "#Insall findspark library which will locate Spark on system import it as regular library\n",
        "!pip install -q findspark\n",
        "!pip install py4j\n",
        "\n",
        "!export JAVA_HOME=$(/usr/lib/jvm/java-8-openjdk-amd64 -v 1.8)\n",
        "! echo $JAVA_HOME\n",
        "#Set environment path. This will enable us to run Pyspark in the Colab environment.\n",
        "import os\n",
        "os.environ[\"JAVA_HOME\"] = \"/usr/lib/jvm/java-8-openjdk-amd64\"\n",
        "os.environ[\"SPARK_HOME\"] = \"/content/spark-3.0.2-bin-hadoop2.7\"\n",
        "import findspark\n",
        "findspark.init(\"spark-3.0.2-bin-hadoop2.7\")\n",
        "\n",
        "#Install Pyspark\n",
        "!pip install pyspark\n",
        "\n",
        "# Install Sparknlp\n",
        "!pip install --ignore-installed spark-nlp\n",
        "\n",
        "from pyspark.sql import SparkSession\n",
        "spark = SparkSession.builder.master(\"local[*]\").getOrCreate()"
      ],
      "execution_count": null,
      "outputs": []
    },
    {
      "cell_type": "code",
      "metadata": {
        "colab": {
          "base_uri": "https://localhost:8080/",
          "height": 453
        },
        "id": "tXv11cTV3_Xk",
        "outputId": "67c1bbaa-c8ea-4030-9802-2c1db1fa80d1"
      },
      "source": [
        "import os\n",
        "\n",
        "# Install java\n",
        "! apt-get install -y openjdk-8-jdk-headless -qq > /dev/null\n",
        "os.environ[\"JAVA_HOME\"] = \"/usr/lib/jvm/java-8-openjdk-amd64\"\n",
        "os.environ[\"PATH\"] = os.environ[\"JAVA_HOME\"] + \"/bin:\" + os.environ[\"PATH\"]\n",
        "! java -version\n",
        "\n",
        "# Install pyspark\n",
        "! pip install --ignore-installed pyspark==2.4.7\n",
        "\n",
        "# Install Spark NLP\n",
        "! pip install --ignore-installed spark-nlp==2.7.4\n",
        "\n",
        "# Quick SparkSession start\n",
        "import sparknlp\n",
        "spark = sparknlp.start()\n",
        "\n",
        "print(\"Spark NLP version\")\n",
        "sparknlp.version()\n",
        "print(\"Apache Spark version\")\n",
        "spark.version"
      ],
      "execution_count": null,
      "outputs": [
        {
          "output_type": "stream",
          "text": [
            "openjdk version \"1.8.0_282\"\n",
            "OpenJDK Runtime Environment (build 1.8.0_282-8u282-b08-0ubuntu1~18.04-b08)\n",
            "OpenJDK 64-Bit Server VM (build 25.282-b08, mixed mode)\n",
            "Collecting pyspark==2.4.7\n",
            "\u001b[?25l  Downloading https://files.pythonhosted.org/packages/e2/06/29f80e5a464033432eedf89924e7aa6ebbc47ce4dcd956853a73627f2c07/pyspark-2.4.7.tar.gz (217.9MB)\n",
            "\u001b[K     |████████████████████████████████| 217.9MB 60kB/s \n",
            "\u001b[?25hCollecting py4j==0.10.7\n",
            "\u001b[?25l  Downloading https://files.pythonhosted.org/packages/e3/53/c737818eb9a7dc32a7cd4f1396e787bd94200c3997c72c1dbe028587bd76/py4j-0.10.7-py2.py3-none-any.whl (197kB)\n",
            "\u001b[K     |████████████████████████████████| 204kB 23.5MB/s \n",
            "\u001b[?25hBuilding wheels for collected packages: pyspark\n",
            "  Building wheel for pyspark (setup.py) ... \u001b[?25l\u001b[?25hdone\n",
            "  Created wheel for pyspark: filename=pyspark-2.4.7-py2.py3-none-any.whl size=218279465 sha256=5fef4f5ca69844fca80d1f9a458e304d51761fa4238206b584e8f0bff3a1c5ac\n",
            "  Stored in directory: /root/.cache/pip/wheels/34/1f/2e/1e7460f80acf26b08dbb8c53d7ff9e07146f2a68dd5c732be5\n",
            "Successfully built pyspark\n",
            "Installing collected packages: py4j, pyspark\n",
            "Successfully installed py4j-0.10.7 pyspark-2.4.7\n",
            "Collecting spark-nlp==2.7.4\n",
            "\u001b[?25l  Downloading https://files.pythonhosted.org/packages/8d/a5/a5130215b43f3bd0e98bd16c471d36dafeab8855ca17789d4927337fa7dc/spark_nlp-2.7.4-py2.py3-none-any.whl (139kB)\n",
            "\u001b[K     |████████████████████████████████| 143kB 19.1MB/s \n",
            "\u001b[?25hInstalling collected packages: spark-nlp\n",
            "Successfully installed spark-nlp-2.7.4\n",
            "Spark NLP version\n",
            "Apache Spark version\n"
          ],
          "name": "stdout"
        },
        {
          "output_type": "execute_result",
          "data": {
            "application/vnd.google.colaboratory.intrinsic+json": {
              "type": "string"
            },
            "text/plain": [
              "'2.4.7'"
            ]
          },
          "metadata": {
            "tags": []
          },
          "execution_count": 1
        }
      ]
    },
    {
      "cell_type": "code",
      "metadata": {
        "id": "1l-dpNONtXFz"
      },
      "source": [
        "#import nessary packages\n",
        "import pandas as pd\n",
        "import numpy as np\n",
        "import seaborn as sns\n",
        "import matplotlib.pyplot as plt\n",
        "import os\n",
        "import json\n",
        "from pyspark.ml import Pipeline\n",
        "from pyspark.sql import SparkSession\n",
        "import pyspark.sql.functions as F\n",
        "from sparknlp.annotator import *\n",
        "from sparknlp.base import *\n",
        "import sparknlp"
      ],
      "execution_count": null,
      "outputs": []
    },
    {
      "cell_type": "code",
      "metadata": {
        "id": "H7Y5GFD0P9mt"
      },
      "source": [
        "from sparknlp.base import *\n",
        "from pyspark.ml.feature import StopWordsRemover\n",
        "from pyspark.ml.feature import RegexTokenizer\n",
        "from pyspark.sql.functions import col, udf\n",
        "from pyspark.ml.feature import RegexTokenizer"
      ],
      "execution_count": null,
      "outputs": []
    },
    {
      "cell_type": "code",
      "metadata": {
        "colab": {
          "base_uri": "https://localhost:8080/"
        },
        "id": "f6j6nMAeyp9N",
        "outputId": "12f8ab04-ee3d-4ea8-a0bc-a93f0ab12eb0"
      },
      "source": [
        "spark = sparknlp.start()\n",
        "sparknlp.start(gpu=True)\n",
        "print(\"Spark NLP version: \", sparknlp.version())\n",
        "print(\"Apache Spark version: \", spark.version)"
      ],
      "execution_count": null,
      "outputs": [
        {
          "output_type": "stream",
          "text": [
            "Spark NLP version:  2.7.4\n",
            "Apache Spark version:  2.4.7\n"
          ],
          "name": "stdout"
        }
      ]
    },
    {
      "cell_type": "code",
      "metadata": {
        "colab": {
          "base_uri": "https://localhost:8080/"
        },
        "id": "603MmeiAlHd5",
        "outputId": "ab0dba2e-3cbe-4ddf-cf29-51d9cb426119"
      },
      "source": [
        "#uninstall pyarrow and install it latter inorder to fix the issue of importing koalas\n",
        "!pip uninstall pyarrow\n",
        "\n",
        "#install Koalas\n",
        "!pip install koalas\n",
        "\n",
        "# Install compatible version of pyarrow\n",
        "!pip install pyarrow\n",
        "\n",
        "#import koalas package\n",
        "import databricks.koalas as ks"
      ],
      "execution_count": null,
      "outputs": [
        {
          "output_type": "stream",
          "text": [
            "Uninstalling pyarrow-3.0.0:\n",
            "  Would remove:\n",
            "    /usr/local/bin/plasma_store\n",
            "    /usr/local/lib/python3.7/dist-packages/pyarrow-3.0.0.dist-info/*\n",
            "    /usr/local/lib/python3.7/dist-packages/pyarrow/*\n",
            "Proceed (y/n)? y\n",
            "  Successfully uninstalled pyarrow-3.0.0\n",
            "Collecting koalas\n",
            "\u001b[?25l  Downloading https://files.pythonhosted.org/packages/1d/91/58c88fc3221d7c21d854d7d9c0fe081bf1ac244c1e4496bb2b56e1f31e25/koalas-1.6.0-py3-none-any.whl (668kB)\n",
            "\u001b[K     |████████████████████████████████| 675kB 5.0MB/s \n",
            "\u001b[?25hCollecting pyarrow>=0.10\n",
            "\u001b[?25l  Downloading https://files.pythonhosted.org/packages/fc/61/814f4c8d2cd4d51dfd80a9c4ea14b8fd09e37cb0f6962c1f04d504a02e03/pyarrow-3.0.0-cp37-cp37m-manylinux2014_x86_64.whl (20.7MB)\n",
            "\u001b[K     |████████████████████████████████| 20.7MB 44.7MB/s \n",
            "\u001b[?25hRequirement already satisfied: numpy>=1.14 in /usr/local/lib/python3.7/dist-packages (from koalas) (1.19.5)\n",
            "Requirement already satisfied: matplotlib<3.3.0,>=3.0.0 in /usr/local/lib/python3.7/dist-packages (from koalas) (3.2.2)\n",
            "Requirement already satisfied: pandas<1.2.0,>=0.23.2 in /usr/local/lib/python3.7/dist-packages (from koalas) (1.1.5)\n",
            "Requirement already satisfied: kiwisolver>=1.0.1 in /usr/local/lib/python3.7/dist-packages (from matplotlib<3.3.0,>=3.0.0->koalas) (1.3.1)\n",
            "Requirement already satisfied: pyparsing!=2.0.4,!=2.1.2,!=2.1.6,>=2.0.1 in /usr/local/lib/python3.7/dist-packages (from matplotlib<3.3.0,>=3.0.0->koalas) (2.4.7)\n",
            "Requirement already satisfied: python-dateutil>=2.1 in /usr/local/lib/python3.7/dist-packages (from matplotlib<3.3.0,>=3.0.0->koalas) (2.8.1)\n",
            "Requirement already satisfied: cycler>=0.10 in /usr/local/lib/python3.7/dist-packages (from matplotlib<3.3.0,>=3.0.0->koalas) (0.10.0)\n",
            "Requirement already satisfied: pytz>=2017.2 in /usr/local/lib/python3.7/dist-packages (from pandas<1.2.0,>=0.23.2->koalas) (2018.9)\n",
            "Requirement already satisfied: six>=1.5 in /usr/local/lib/python3.7/dist-packages (from python-dateutil>=2.1->matplotlib<3.3.0,>=3.0.0->koalas) (1.15.0)\n",
            "Installing collected packages: pyarrow, koalas\n",
            "Successfully installed koalas-1.6.0 pyarrow-3.0.0\n",
            "Requirement already satisfied: pyarrow in /usr/local/lib/python3.7/dist-packages (3.0.0)\n",
            "Requirement already satisfied: numpy>=1.16.6 in /usr/local/lib/python3.7/dist-packages (from pyarrow) (1.19.5)\n"
          ],
          "name": "stdout"
        },
        {
          "output_type": "stream",
          "text": [
            "WARNING:root:'ARROW_PRE_0_15_IPC_FORMAT' environment variable was not set. It is required to set this environment variable to '1' in both driver and executor sides if you use pyarrow>=0.15 and pyspark<3.0. Koalas will set it for you but it does not work if there is a Spark context already launched.\n",
            "WARNING:root:'PYARROW_IGNORE_TIMEZONE' environment variable was not set. It is required to set this environment variable to '1' in both driver and executor sides if you use pyarrow>=2.0.0. Koalas will set it for you but it does not work if there is a Spark context already launched.\n"
          ],
          "name": "stderr"
        }
      ]
    },
    {
      "cell_type": "markdown",
      "metadata": {
        "id": "1fZPboItnO7E"
      },
      "source": [
        "###Load and cache data"
      ]
    },
    {
      "cell_type": "code",
      "metadata": {
        "colab": {
          "base_uri": "https://localhost:8080/"
        },
        "id": "Ri2z51UFn1xS",
        "outputId": "9b23561a-4e63-449b-bee1-34f2c5aede26"
      },
      "source": [
        "#load data from google drive \n",
        "from google.colab import drive\n",
        "drive.mount('/gdrive')\n",
        "%cd /gdrive"
      ],
      "execution_count": null,
      "outputs": [
        {
          "output_type": "stream",
          "text": [
            "Mounted at /gdrive\n",
            "/gdrive\n"
          ],
          "name": "stdout"
        }
      ]
    },
    {
      "cell_type": "code",
      "metadata": {
        "colab": {
          "base_uri": "https://localhost:8080/"
        },
        "id": "MPAouDR5qY22",
        "outputId": "dce968e0-7a87-406e-91b1-b08a37269d20"
      },
      "source": [
        "file = r'/gdrive/MyDrive/Projects/NLP_Youtube_reviews/animals_comments.csv'\n",
        "full_reviews_df = spark.read.csv(file, header=True, inferSchema=True) \n",
        "full_reviews_df.cache()\n",
        "full_reviews_df.show()"
      ],
      "execution_count": null,
      "outputs": [
        {
          "output_type": "stream",
          "text": [
            "+--------------------+------+-------------------------------------+\n",
            "|        creator_name|userid|                              comment|\n",
            "+--------------------+------+-------------------------------------+\n",
            "|        Doug The Pug|  87.0|                 I shared this to ...|\n",
            "|        Doug The Pug|  87.0|                   Super cute  😀🐕🐶|\n",
            "|         bulletproof| 530.0|                 stop saying get e...|\n",
            "|       Meu Zoológico| 670.0|                 Tenho uma jiboia ...|\n",
            "|              ojatro|1031.0|                 I wanna see what ...|\n",
            "|     Tingle Triggers|1212.0|                 Well shit now Im ...|\n",
            "|Hope For Paws - O...|1806.0|                 when I saw the en...|\n",
            "|Hope For Paws - O...|2036.0|                 Holy crap. That i...|\n",
            "|          Life Story|2637.0|武器はクエストで貰えるんじゃないん...|\n",
            "|       Brian Barczyk|2698.0|                 Call the teddy Larry|\n",
            "|            The Dodo|2702.0|                   😐🤔😓😢😭😭😭😭😟|\n",
            "|Hope For Paws - O...|2911.0|                 That mother cat l...|\n",
            "|Hope For Paws - O...|2911.0|                 Its people like H...|\n",
            "|   Talking Kitty Cat|2911.0|                 steve: No wet foo...|\n",
            "|    Brave Wilderness|3224.0|                 Dont call this a ...|\n",
            "|          MaxluvsMya|3267.0|                 why are you alway...|\n",
            "|Rise Up Society F...|3372.0|                           Deb Tucker|\n",
            "|            The Dodo|3466.0|                 Thats a deer isnt...|\n",
            "|    Brave Wilderness|3466.0|                 there is no safe ...|\n",
            "|    Brave Wilderness|3466.0|                 Red before yellow...|\n",
            "+--------------------+------+-------------------------------------+\n",
            "only showing top 20 rows\n",
            "\n"
          ],
          "name": "stdout"
        }
      ]
    },
    {
      "cell_type": "markdown",
      "metadata": {
        "id": "STwwMNZvw1uR"
      },
      "source": [
        "#Part 1: Explotary Data Analysis (EDA) "
      ]
    },
    {
      "cell_type": "code",
      "metadata": {
        "colab": {
          "base_uri": "https://localhost:8080/"
        },
        "id": "FsmXqWWf0v28",
        "outputId": "31cd5b33-2dab-4520-925a-4e2791524a8f"
      },
      "source": [
        "#check column's datatypes\n",
        "full_reviews_df.dtypes"
      ],
      "execution_count": null,
      "outputs": [
        {
          "output_type": "execute_result",
          "data": {
            "text/plain": [
              "[('creator_name', 'string'), ('userid', 'double'), ('comment', 'string')]"
            ]
          },
          "metadata": {
            "tags": []
          },
          "execution_count": 7
        }
      ]
    },
    {
      "cell_type": "code",
      "metadata": {
        "colab": {
          "base_uri": "https://localhost:8080/"
        },
        "id": "b0gg5MgV05hT",
        "outputId": "45a78865-efb7-42f2-81bb-2c415a034c20"
      },
      "source": [
        "num_rows = full_reviews_df.count()\n",
        "print('Number of rows in df:', num_rows)"
      ],
      "execution_count": null,
      "outputs": [
        {
          "output_type": "stream",
          "text": [
            "Number of rows in df: 5820035\n"
          ],
          "name": "stdout"
        }
      ]
    },
    {
      "cell_type": "code",
      "metadata": {
        "colab": {
          "base_uri": "https://localhost:8080/"
        },
        "id": "IKF-QGcm2Vhh",
        "outputId": "f5b6084e-fdfa-498b-d1d8-6af70afb2bb8"
      },
      "source": [
        "#Check distict creator and user\n",
        "print('Total number of distinct creator_name:{} (out of totoal creater_name:{}).'.format(full_reviews_df.select('creator_name').distinct().count(),num_rows))\n",
        "print('Total number of distinct userid:{} (out of totoal userid:{}).'.format(full_reviews_df.select('userid').distinct().count(), num_rows))\n"
      ],
      "execution_count": null,
      "outputs": [
        {
          "output_type": "stream",
          "text": [
            "Total number of distinct creator_name:4241 (out of totoal creater_name:5820035).\n",
            "Total number of distinct userid:2537174 (out of totoal userid:5820035).\n"
          ],
          "name": "stdout"
        }
      ]
    },
    {
      "cell_type": "markdown",
      "metadata": {
        "id": "Qazm5JuUiW9L"
      },
      "source": [
        "Notes: There are 4241 creators and 2.5M different users."
      ]
    },
    {
      "cell_type": "code",
      "metadata": {
        "colab": {
          "base_uri": "https://localhost:8080/"
        },
        "id": "Tk_BKiL71Isu",
        "outputId": "d321fe56-b748-4e38-d8b7-241935eeee21"
      },
      "source": [
        "#Check if any null values and count\n",
        "print('Number of null values in creator_name:', full_reviews_df.filter(full_reviews_df['creator_name'].isNull()).count())\n",
        "print('Number of null values in userid: ',full_reviews_df.filter(full_reviews_df['userid'].isNull()).count())\n",
        "print('Number of null values in comment: ',full_reviews_df.filter(full_reviews_df['comment'].isNull()).count())"
      ],
      "execution_count": null,
      "outputs": [
        {
          "output_type": "stream",
          "text": [
            "Number of null values in creator_name: 32050\n",
            "Number of null values in userid:  565\n",
            "Number of null values in comment:  1051\n"
          ],
          "name": "stdout"
        }
      ]
    },
    {
      "cell_type": "markdown",
      "metadata": {
        "id": "wi8yztTvj-2B"
      },
      "source": [
        "Notes: There are some missing values. Creator_name has 32k missing."
      ]
    },
    {
      "cell_type": "code",
      "metadata": {
        "id": "lm4n2gRC43JG"
      },
      "source": [
        "from pyspark.sql.functions import *"
      ],
      "execution_count": null,
      "outputs": []
    },
    {
      "cell_type": "code",
      "metadata": {
        "colab": {
          "base_uri": "https://localhost:8080/"
        },
        "id": "lVdVwKJj_N6U",
        "outputId": "a843c888-0509-492c-dc7a-e2f0310defc6"
      },
      "source": [
        "#Count number of reviews that each creator recieved\n",
        "group_by_creator = full_reviews_df.groupBy('creator_name').count().withColumnRenamed('count', 'num_comments').orderBy(col('num_comments').desc())\n",
        "group_by_creator.show()"
      ],
      "execution_count": null,
      "outputs": [
        {
          "output_type": "stream",
          "text": [
            "+-----------------------+------------+\n",
            "|           creator_name|num_comments|\n",
            "+-----------------------+------------+\n",
            "|       Brave Wilderness|     1048751|\n",
            "|          Brian Barczyk|      386324|\n",
            "|               The Dodo|      325071|\n",
            "|     Taylor Nicole Dean|      235644|\n",
            "|   Hope For Paws - O...|      127731|\n",
            "|            Info Marvel|      121353|\n",
            "|           Robin Seplut|      116551|\n",
            "|꼬부기아빠 My Pet Diary|      102594|\n",
            "|              Vet Ranch|      102127|\n",
            "|        Gohan The Husky|       99580|\n",
            "|               ViralHog|       87939|\n",
            "|        Viktor Larkhill|       76341|\n",
            "|      Talking Kitty Cat|       74315|\n",
            "|    Keedes channel LIVE|       72829|\n",
            "|              MonkeyBoo|       70173|\n",
            "|               Mạnh CFM|       64826|\n",
            "|   Gone to the Snow ...|       55244|\n",
            "|           Mr. Max T.V.|       51365|\n",
            "|       Cole & Marmalade|       50422|\n",
            "|     Think Like A Horse|       48877|\n",
            "+-----------------------+------------+\n",
            "only showing top 20 rows\n",
            "\n"
          ],
          "name": "stdout"
        }
      ]
    },
    {
      "cell_type": "code",
      "metadata": {
        "id": "3123bQL6Cyuo",
        "colab": {
          "base_uri": "https://localhost:8080/"
        },
        "outputId": "9783abde-c52e-4243-977b-17fc873aaf2f"
      },
      "source": [
        "#Show number if reviews that each user gave\n",
        "group_by_userid = full_reviews_df.groupBy('userid').count().withColumnRenamed('count', 'num_comments').orderBy(col('num_comments').desc())\n",
        "group_by_userid.show()"
      ],
      "execution_count": null,
      "outputs": [
        {
          "output_type": "stream",
          "text": [
            "+---------+------------+\n",
            "|   userid|num_comments|\n",
            "+---------+------------+\n",
            "|2036522.0|        2571|\n",
            "| 455571.0|        2159|\n",
            "| 569313.0|        1452|\n",
            "|1727704.0|        1339|\n",
            "|2041593.0|        1288|\n",
            "|2288680.0|        1247|\n",
            "| 954873.0|         888|\n",
            "| 479268.0|         775|\n",
            "|1568280.0|         757|\n",
            "| 575285.0|         742|\n",
            "|2184324.0|         740|\n",
            "| 170012.0|         725|\n",
            "| 797741.0|         697|\n",
            "|1367232.0|         671|\n",
            "|1293328.0|         644|\n",
            "|2056517.0|         642|\n",
            "|1705977.0|         627|\n",
            "|2071628.0|         605|\n",
            "|1448539.0|         601|\n",
            "| 717385.0|         596|\n",
            "+---------+------------+\n",
            "only showing top 20 rows\n",
            "\n"
          ],
          "name": "stdout"
        }
      ]
    },
    {
      "cell_type": "code",
      "metadata": {
        "colab": {
          "base_uri": "https://localhost:8080/"
        },
        "id": "tSAJ4mr96KX4",
        "outputId": "b048dc4a-3e1b-41c1-c675-7905bbbd0805"
      },
      "source": [
        "print('For the users that rated videos and the channel that were rated:')\n",
        "print('Maximun number of reviews per userid: {}'.format(full_reviews_df.groupBy('userid').count().select('count').rdd.max()[0]))\n",
        "print('Maximun number of reviews per Youtube Channel (creator_name): {}'.format(full_reviews_df.groupBy('creator_name').count().select('count').rdd.max()[0]))"
      ],
      "execution_count": null,
      "outputs": [
        {
          "output_type": "stream",
          "text": [
            "For the users that rated videos and the channel that were rated:\n",
            "Maximun number of reviews per userid: 2571\n",
            "Maximun number of reviews per Youtube Channel (creator_name): 1048751\n"
          ],
          "name": "stdout"
        }
      ]
    },
    {
      "cell_type": "markdown",
      "metadata": {
        "id": "UxkOmNwLPbWX"
      },
      "source": [
        "#Part 2: Build ML Pipeline And Data Preprocessing\n",
        "\n",
        "\n",
        "\n",
        "1.   Remove null values.\n",
        "2.   Create label for dog and cat comments.\n",
        "3.   High imbalance datast: Down Sampling.\n",
        "\n",
        "4.    ML Pipeline: Tockenization, Removing stop wrod, Stemming, Word2Vec\n",
        "\n"
      ]
    },
    {
      "cell_type": "markdown",
      "metadata": {
        "id": "WYxRKMJUsJQT"
      },
      "source": [
        "**Try 10% of sample dataset.**"
      ]
    },
    {
      "cell_type": "code",
      "metadata": {
        "colab": {
          "background_save": true
        },
        "id": "emZ-PTdnj98l"
      },
      "source": [
        "#split data into smaller sample\n",
        "#reviews_df, reviews9_df= full_reviews_df.randomSplit([0.1, 0.9])\n",
        "#print('Sample data size: ', reviews_df.count())"
      ],
      "execution_count": null,
      "outputs": []
    },
    {
      "cell_type": "markdown",
      "metadata": {
        "id": "VReGoQX0SplX"
      },
      "source": [
        "###Part 2.1: Drop Null Values"
      ]
    },
    {
      "cell_type": "code",
      "metadata": {
        "colab": {
          "base_uri": "https://localhost:8080/"
        },
        "id": "TezNUOhexk07",
        "outputId": "b4ef67a4-654d-4320-842a-7c405a4146f5"
      },
      "source": [
        "#drop null value in creator_name, userid and comments, and drop duplicates\n",
        "#since spark dataframe is immutable, so we will create a new datafram without null values\n",
        "def pre_process(df):\n",
        "  for colume in df.columns:\n",
        "    df=df.filter(df[colume].isNotNull())\n",
        "\n",
        "  #drop duplicate\n",
        "  clean_reviews_df = df.dropDuplicates() #return a new datafram with duplicate row removed\n",
        "  \n",
        "  print('After droppoing, we have {} rows in dataframe'.format(clean_reviews_df.count()))\n",
        "  return clean_reviews_df\n",
        "\n",
        "\n",
        "clean_reviews_df = pre_process(full_reviews_df)\n",
        "\n",
        "#cache the dataframe\n",
        "clean_reviews_df.cache()"
      ],
      "execution_count": null,
      "outputs": [
        {
          "output_type": "stream",
          "text": [
            "After droppoing, we have 5725602 rows in dataframe\n"
          ],
          "name": "stdout"
        },
        {
          "output_type": "execute_result",
          "data": {
            "text/plain": [
              "DataFrame[creator_name: string, userid: double, comment: string]"
            ]
          },
          "metadata": {
            "tags": []
          },
          "execution_count": 7
        }
      ]
    },
    {
      "cell_type": "markdown",
      "metadata": {
        "id": "Ged54_j9STVO"
      },
      "source": [
        "###Part2.2: Create Label For Users Who have Dog And Cat \n",
        "\n",
        "**This is an unlabeled dataset and we want to train a clasifier to identify cat and dog owners. Thus first thing to do is to label each comment.**\n",
        "\n",
        "1. Label comment when \n",
        "he/she has dogs or cats.\n",
        "2. label comment when he/she don't have a dog or cat.\n",
        "3. Combine 1 and 2 as our training dataset, and rest of the dataset will be the data we predict.\n",
        "4. The strategy to tell if a user own or not own is just using key words (like I have a dog) to tell. Otherwise we can't have better ways and don't have labels."
      ]
    },
    {
      "cell_type": "code",
      "metadata": {
        "colab": {
          "base_uri": "https://localhost:8080/"
        },
        "id": "gQsw32SnSRhw",
        "outputId": "b4bd074e-b32b-4de9-b134-f9bb95681b38"
      },
      "source": [
        "#label user with preference of dog and cat\n",
        "from pyspark.sql.types import IntegerType\n",
        "\n",
        "cond = (clean_reviews_df[\"comment\"].like(\"%my dog%\") | clean_reviews_df[\"comment\"].like(\"%I have a dog%\") | clean_reviews_df[\"comment\"].like(\"%my dogs%\") | clean_reviews_df[\"comment\"].like(\"%I have dog%\")\n",
        "        | clean_reviews_df[\"comment\"].like(\"%my cat%\") | clean_reviews_df[\"comment\"].like(\"%my cats%\") | clean_reviews_df[\"comment\"].like(\"%I have a cat%\") | clean_reviews_df[\"comment\"].like(\"%I have cat%\") \n",
        "        | clean_reviews_df[\"comment\"].like(\"%my puppy%\") | clean_reviews_df[\"comment\"].like(\"%my puppies%\") | clean_reviews_df[\"comment\"].like(\"%my kitty%\") | clean_reviews_df[\"comment\"].like(\"%my kitties%\") \n",
        "        | clean_reviews_df[\"comment\"].like(\"%I have a kitty%\") | clean_reviews_df[\"comment\"].like(\"%I have kitties%\") | clean_reviews_df[\"comment\"].like(\"%I have a puppy%\") | clean_reviews_df[\"comment\"].like(\"%I have puppies%\"))\n",
        "\n",
        "labeled_reviews_df = clean_reviews_df.withColumn('dog_cat',  cond)\n",
        "\n",
        "# label user who do not have pet\n",
        "labeled_reviews_df = labeled_reviews_df.withColumn('no_pet', ~labeled_reviews_df[\"comment\"].like(\"%my%\") & ~labeled_reviews_df[\"comment\"].like(\"%have%\") \n",
        "                                                  & ~labeled_reviews_df['comment'].like('%my dog%') & ~labeled_reviews_df['comment'].like('%my cat%'))\n",
        "\n",
        "#create a label column, comment categorized as dog_cat=1 else 0\n",
        "labeled_reviews_df = labeled_reviews_df.withColumn('label', col('dog_cat').cast(IntegerType()).cast('double'))\n",
        "\n",
        "#filter comments with pet and not_pet, then combine them as an new dataframe\n",
        "#Since we are Only interested in the user who has dog and cat, so we choose the comment from\n",
        "#dog and cat user as positive label and the comments which classified as no pet as Negative lables.\n",
        "pet = labeled_reviews_df.filter(col('dog_cat')==True)\n",
        "no_pet = labeled_reviews_df.filter(col('no_pet')==True)\n",
        "pet_df = pet.union(no_pet)\n",
        "\n",
        "pet_df.cache()\n",
        "pet_df.show()"
      ],
      "execution_count": null,
      "outputs": [
        {
          "output_type": "stream",
          "text": [
            "+--------------------+---------+--------------------+-------+------+-----+\n",
            "|        creator_name|   userid|             comment|dog_cat|no_pet|label|\n",
            "+--------------------+---------+--------------------+-------+------+-----+\n",
            "|    Cole & Marmalade| 846766.0|I like to sing in...|   true| false|  1.0|\n",
            "|     MARLENE MCCOHEN|2225630.0|hey my dogs racis...|   true| false|  1.0|\n",
            "|               Maymo|2476023.0|This is my dog in...|   true| false|  1.0|\n",
            "|           Bully Max| 954499.0|Thats why I adopt...|   true| false|  1.0|\n",
            "|     Viktor Larkhill| 942806.0|Teddy you are in ...|   true| false|  1.0|\n",
            "|           GoHerping|1766617.0|just got one and ...|   true| false|  1.0|\n",
            "|       Brian Barczyk|2351519.0|I feel you my dog...|   true| false|  1.0|\n",
            "|       Brian Barczyk| 124380.0|Arty will get bet...|   true| false|  1.0|\n",
            "|            Gardea23|1656838.0|i wish i could pl...|   true| false|  1.0|\n",
            "|     Gohan The Husky| 967274.0|I gave this type ...|   true| false|  1.0|\n",
            "|          Funny Pets|1755054.0|I wana go hug my ...|   true| false|  1.0|\n",
            "|           best pets|2318443.0|My aunt was visit...|   true| false|  1.0|\n",
            "|        Paws Channel|1636507.0|Serena I have a d...|   true| false|  1.0|\n",
            "|    Riot The Red Fox|1198384.0|Omfg my cat used ...|   true| false|  1.0|\n",
            "|          Funny Pets| 753204.0|This is my dogs r...|   true| false|  1.0|\n",
            "|           Vet Ranch|1975272.0|i cant say how mu...|   true| false|  1.0|\n",
            "|Hope For Paws - O...|2334207.0|I have been suffe...|   true| false|  1.0|\n",
            "|Worlds Fuzziest V...|2121208.0|After watching th...|   true| false|  1.0|\n",
            "|Peter Caine Dog T...|2329604.0|I didnt actually ...|   true| false|  1.0|\n",
            "|   Training Positive| 473246.0|hey i am 12 and t...|   true| false|  1.0|\n",
            "+--------------------+---------+--------------------+-------+------+-----+\n",
            "only showing top 20 rows\n",
            "\n"
          ],
          "name": "stdout"
        }
      ]
    },
    {
      "cell_type": "code",
      "metadata": {
        "colab": {
          "base_uri": "https://localhost:8080/"
        },
        "id": "y9tVpRqi2eWX",
        "outputId": "948b100d-1100-46ab-86e9-899a6bd90176"
      },
      "source": [
        "num_pet = pet.count()\n",
        "num_no_pet = no_pet.count()\n",
        "num_sample = pet_df.count()\n",
        "true_label_pct = num_pet/num_sample*100\n",
        "print('There are {} of comments are classified as dog or cat owners in {} ({:.2f}%) of total comments.'.format(num_pet, num_sample, true_label_pct))"
      ],
      "execution_count": null,
      "outputs": [
        {
          "output_type": "stream",
          "text": [
            "There are 40180 of comments are classified as dog or cat owners in 4902747 (0.82%) of total comments.\n"
          ],
          "name": "stdout"
        }
      ]
    },
    {
      "cell_type": "markdown",
      "metadata": {
        "id": "EzhvQfc7Vp_r"
      },
      "source": [
        "***Note: very high imbalance label with less than 1% of users have dog or cat over total comments. ***"
      ]
    },
    {
      "cell_type": "markdown",
      "metadata": {
        "id": "KImDp7pv3Fmk"
      },
      "source": [
        "**Down sampling:\n",
        "the no_pet because \n",
        "\n",
        "*   Dowsampling the data is extremely imbalance. We just use downsampling technique because spark did't support SMOTE\n",
        "*   **Only downsampling on training dataset**, and keep the test data as original.\n"
      ]
    },
    {
      "cell_type": "markdown",
      "metadata": {
        "id": "zD9P8mRn_kkY"
      },
      "source": [
        "###Split Data Into Train and Test"
      ]
    },
    {
      "cell_type": "code",
      "metadata": {
        "colab": {
          "base_uri": "https://localhost:8080/"
        },
        "id": "OZQLeAyu9gH9",
        "outputId": "cf85552d-7330-4983-ab28-86c10eb82085"
      },
      "source": [
        "#train test split with 80% taining, 20% test\n",
        "training, test = pet_df.randomSplit([0.8, 0.2])\n",
        "training.cache()\n",
        "test.cache()"
      ],
      "execution_count": null,
      "outputs": [
        {
          "output_type": "execute_result",
          "data": {
            "text/plain": [
              "DataFrame[creator_name: string, userid: double, comment: string, dog_cat: boolean, no_pet: boolean, label: double]"
            ]
          },
          "metadata": {
            "tags": []
          },
          "execution_count": 10
        }
      ]
    },
    {
      "cell_type": "code",
      "metadata": {
        "colab": {
          "base_uri": "https://localhost:8080/"
        },
        "id": "k2zH4kR8XFWC",
        "outputId": "5d91535a-c748-4339-a8d9-2546f356a22a"
      },
      "source": [
        "training.show()"
      ],
      "execution_count": null,
      "outputs": [
        {
          "output_type": "stream",
          "text": [
            "+------------------+---------+--------------------+-------+------+-----+\n",
            "|      creator_name|   userid|             comment|dog_cat|no_pet|label|\n",
            "+------------------+---------+--------------------+-------+------+-----+\n",
            "|    Aarons Animals|2285699.0|Never gonna happe...|   true| false|  1.0|\n",
            "|Alex Knappenberger| 517292.0|Kid thinks he is ...|   true| false|  1.0|\n",
            "|  Brave Wilderness| 212789.0|The crab is cuter...|   true| false|  1.0|\n",
            "|  Brave Wilderness| 805828.0|4:30 Sounds like ...|   true| false|  1.0|\n",
            "|  Brave Wilderness|1008240.0|Omg it’s so adora...|   true| false|  1.0|\n",
            "|     Brian Barczyk|  33429.0|Im crying along w...|   true| false|  1.0|\n",
            "|     Brian Barczyk| 124380.0|Arty will get bet...|   true| false|  1.0|\n",
            "|     Brian Barczyk| 410371.0|that happend to m...|   true| false|  1.0|\n",
            "|     Brian Barczyk|1564810.0|Hey my dog is 4 y...|   true| false|  1.0|\n",
            "|     Brian Barczyk|1766603.0|Im really crying ...|   true| false|  1.0|\n",
            "|     Brian Barczyk|1996262.0|Number 5 because ...|   true| false|  1.0|\n",
            "|     Brian Barczyk|2351519.0|I feel you my dog...|   true| false|  1.0|\n",
            "|         Bully Max| 954499.0|Thats why I adopt...|   true| false|  1.0|\n",
            "|     Cat Man Chris| 698142.0|my cat loves my f...|   true| false|  1.0|\n",
            "|     Cat Man Chris| 762407.0|my cat Shadow is ...|   true| false|  1.0|\n",
            "|  Cole & Marmalade| 441818.0|my cat is a Bagel...|   true| false|  1.0|\n",
            "|  Cole & Marmalade| 599397.0|This is the reaso...|   true| false|  1.0|\n",
            "|  Cole & Marmalade| 784491.0|my cats know they...|   true| false|  1.0|\n",
            "|  Cole & Marmalade| 788791.0|No idea why i wat...|   true| false|  1.0|\n",
            "|  Cole & Marmalade| 913872.0|As for the mirror...|   true| false|  1.0|\n",
            "+------------------+---------+--------------------+-------+------+-----+\n",
            "only showing top 20 rows\n",
            "\n"
          ],
          "name": "stdout"
        }
      ]
    },
    {
      "cell_type": "code",
      "metadata": {
        "colab": {
          "base_uri": "https://localhost:8080/"
        },
        "id": "2bPmfCFe2Nsr",
        "outputId": "eae8c932-fa5f-4c9b-b18f-2b0540b36ab7"
      },
      "source": [
        "#down sampling the no_pet only on training dataset\n",
        "#filter taining data into pet and no_pet dataframe\n",
        "training_pet = training.filter(training['label']==1.0)\n",
        "training_no_pet = training.filter(training['label']==0.0)\n",
        "\n",
        "#get ratio b/t pet and no_pet sample, we choose pet and no_pet ratio to be 2:1.\n",
        "sampleRatio = float(num_pet) / float(num_no_pet)*2\n",
        "\n",
        "#down sample no_pet on training dataset\n",
        "sample_training_no_pet = training_no_pet.sample(withReplacement=False, fraction=sampleRatio)\n",
        "\n",
        "#build a new datafrom with combining pet and sample no_pet on training data\n",
        "sample_training_df = training_pet.union(sample_training_no_pet)\n",
        "sample_training_df.show()"
      ],
      "execution_count": null,
      "outputs": [
        {
          "output_type": "stream",
          "text": [
            "+------------------+---------+--------------------+-------+------+-----+\n",
            "|      creator_name|   userid|             comment|dog_cat|no_pet|label|\n",
            "+------------------+---------+--------------------+-------+------+-----+\n",
            "|    Aarons Animals|2285699.0|Never gonna happe...|   true| false|  1.0|\n",
            "|Alex Knappenberger| 517292.0|Kid thinks he is ...|   true| false|  1.0|\n",
            "|  Brave Wilderness| 212789.0|The crab is cuter...|   true| false|  1.0|\n",
            "|  Brave Wilderness| 805828.0|4:30 Sounds like ...|   true| false|  1.0|\n",
            "|  Brave Wilderness|1008240.0|Omg it’s so adora...|   true| false|  1.0|\n",
            "|     Brian Barczyk|  33429.0|Im crying along w...|   true| false|  1.0|\n",
            "|     Brian Barczyk| 124380.0|Arty will get bet...|   true| false|  1.0|\n",
            "|     Brian Barczyk| 410371.0|that happend to m...|   true| false|  1.0|\n",
            "|     Brian Barczyk|1564810.0|Hey my dog is 4 y...|   true| false|  1.0|\n",
            "|     Brian Barczyk|1766603.0|Im really crying ...|   true| false|  1.0|\n",
            "|     Brian Barczyk|1996262.0|Number 5 because ...|   true| false|  1.0|\n",
            "|     Brian Barczyk|2351519.0|I feel you my dog...|   true| false|  1.0|\n",
            "|         Bully Max| 954499.0|Thats why I adopt...|   true| false|  1.0|\n",
            "|     Cat Man Chris| 698142.0|my cat loves my f...|   true| false|  1.0|\n",
            "|     Cat Man Chris| 762407.0|my cat Shadow is ...|   true| false|  1.0|\n",
            "|  Cole & Marmalade| 441818.0|my cat is a Bagel...|   true| false|  1.0|\n",
            "|  Cole & Marmalade| 599397.0|This is the reaso...|   true| false|  1.0|\n",
            "|  Cole & Marmalade| 784491.0|my cats know they...|   true| false|  1.0|\n",
            "|  Cole & Marmalade| 788791.0|No idea why i wat...|   true| false|  1.0|\n",
            "|  Cole & Marmalade| 913872.0|As for the mirror...|   true| false|  1.0|\n",
            "+------------------+---------+--------------------+-------+------+-----+\n",
            "only showing top 20 rows\n",
            "\n"
          ],
          "name": "stdout"
        }
      ]
    },
    {
      "cell_type": "code",
      "metadata": {
        "id": "wEm_7ZShpuHx"
      },
      "source": [
        "sample_training_df.toPandas().to_csv('/gdrive/MyDrive/Projects/NLP_Youtube_reviews/sample_training.csv')\n",
        "test.toPandas().to_csv('/gdrive/MyDrive/Projects/NLP_Youtube_reviews/test.csv')"
      ],
      "execution_count": null,
      "outputs": []
    },
    {
      "cell_type": "code",
      "metadata": {
        "colab": {
          "base_uri": "https://localhost:8080/"
        },
        "id": "JED6YHjW1OIj",
        "outputId": "e9b90da2-5aa0-4692-9988-407b48a7066d"
      },
      "source": [
        "sample_train_df = spark.read.csv('/gdrive/MyDrive/Projects/NLP_Youtube_reviews/sample_training.csv', header=True)\n",
        "sample_train_df.cache()\n",
        "sample_train_df.show()"
      ],
      "execution_count": null,
      "outputs": [
        {
          "output_type": "stream",
          "text": [
            "+---+------------------+---------+--------------------+-------+------+-----+\n",
            "|_c0|      creator_name|   userid|             comment|dog_cat|no_pet|label|\n",
            "+---+------------------+---------+--------------------+-------+------+-----+\n",
            "|  0|    Aarons Animals|2285699.0|Never gonna happe...|   True| False|  1.0|\n",
            "|  1|Alex Knappenberger| 517292.0|Kid thinks he is ...|   True| False|  1.0|\n",
            "|  2|  Brave Wilderness| 212789.0|The crab is cuter...|   True| False|  1.0|\n",
            "|  3|  Brave Wilderness| 805828.0|4:30 Sounds like ...|   True| False|  1.0|\n",
            "|  4|  Brave Wilderness|1008240.0|Omg it’s so adora...|   True| False|  1.0|\n",
            "|  5|     Brian Barczyk|  33429.0|Im crying along w...|   True| False|  1.0|\n",
            "|  6|     Brian Barczyk| 124380.0|Arty will get bet...|   True| False|  1.0|\n",
            "|  7|     Brian Barczyk| 410371.0|that happend to m...|   True| False|  1.0|\n",
            "|  8|     Brian Barczyk|1564810.0|Hey my dog is 4 y...|   True| False|  1.0|\n",
            "|  9|     Brian Barczyk|1766603.0|Im really crying ...|   True| False|  1.0|\n",
            "| 10|     Brian Barczyk|1996262.0|Number 5 because ...|   True| False|  1.0|\n",
            "| 11|     Brian Barczyk|2351519.0|I feel you my dog...|   True| False|  1.0|\n",
            "| 12|         Bully Max| 954499.0|Thats why I adopt...|   True| False|  1.0|\n",
            "| 13|     Cat Man Chris| 698142.0|my cat loves my f...|   True| False|  1.0|\n",
            "| 14|     Cat Man Chris| 762407.0|my cat Shadow is ...|   True| False|  1.0|\n",
            "| 15|  Cole & Marmalade| 441818.0|my cat is a Bagel...|   True| False|  1.0|\n",
            "| 16|  Cole & Marmalade| 599397.0|This is the reaso...|   True| False|  1.0|\n",
            "| 17|  Cole & Marmalade| 784491.0|my cats know they...|   True| False|  1.0|\n",
            "| 18|  Cole & Marmalade| 788791.0|No idea why i wat...|   True| False|  1.0|\n",
            "| 19|  Cole & Marmalade| 913872.0|As for the mirror...|   True| False|  1.0|\n",
            "+---+------------------+---------+--------------------+-------+------+-----+\n",
            "only showing top 20 rows\n",
            "\n"
          ],
          "name": "stdout"
        }
      ]
    },
    {
      "cell_type": "code",
      "metadata": {
        "colab": {
          "base_uri": "https://localhost:8080/"
        },
        "id": "UoItCnql2Mic",
        "outputId": "cbd75c69-d8b6-48dc-b2d7-62846e00bd38"
      },
      "source": [
        "test = spark.read.csv('/gdrive/MyDrive/Projects/NLP_Youtube_reviews/test.csv', header=True)\n",
        "test.show()"
      ],
      "execution_count": null,
      "outputs": [
        {
          "output_type": "stream",
          "text": [
            "+---+--------------------+---------+--------------------+-------+------+-----+\n",
            "|_c0|        creator_name|   userid|             comment|dog_cat|no_pet|label|\n",
            "+---+--------------------+---------+--------------------+-------+------+-----+\n",
            "|  0|       Brian Barczyk| 458191.0|I totally know ho...|   True| False|  1.0|\n",
            "|  1|       Brian Barczyk| 894048.0|I feel bad for yo...|   True| False|  1.0|\n",
            "|  2|       Brian Barczyk|1772442.0|I wish I could vi...|   True| False|  1.0|\n",
            "|  3|    Cole & Marmalade| 846766.0|I like to sing in...|   True| False|  1.0|\n",
            "|  4|    Cole & Marmalade|1174029.0|Aww! They remind ...|   True| False|  1.0|\n",
            "|  5|    Cole & Marmalade|2070940.0|a woman came into...|   True| False|  1.0|\n",
            "|  6|    Cole & Marmalade|2361207.0|I miss my cats pu...|   True| False|  1.0|\n",
            "|  7|Dog Training by K...|1533459.0|I was doing ok un...|   True| False|  1.0|\n",
            "|  8|          Funny Pets| 985616.0|One time I had a ...|   True| False|  1.0|\n",
            "|  9|          Funny Pets|1755054.0|I wana go hug my ...|   True| False|  1.0|\n",
            "| 10| Ginger Kitties Four| 152626.0|I named my kitty ...|   True| False|  1.0|\n",
            "| 11|     Gohan The Husky| 252752.0|I ... I started h...|   True| False|  1.0|\n",
            "| 12|     Gohan The Husky| 922302.0|lol my dog fell s...|   True| False|  1.0|\n",
            "| 13|     Gohan The Husky| 967274.0|I gave this type ...|   True| False|  1.0|\n",
            "| 14|     Gohan The Husky|2082910.0|It made my dog ba...|   True| False|  1.0|\n",
            "| 15|Gone to the Snow ...| 845819.0|I sent the packag...|   True| False|  1.0|\n",
            "| 16|Hope For Paws - O...|2334207.0|I have been suffe...|   True| False|  1.0|\n",
            "| 17|     MARLENE MCCOHEN|2225630.0|hey my dogs racis...|   True| False|  1.0|\n",
            "| 18|Peter Caine Dog T...| 576447.0|Trolls = Children...|   True| False|  1.0|\n",
            "| 19|Peter Caine Dog T...|2329604.0|I didnt actually ...|   True| False|  1.0|\n",
            "+---+--------------------+---------+--------------------+-------+------+-----+\n",
            "only showing top 20 rows\n",
            "\n"
          ],
          "name": "stdout"
        }
      ]
    },
    {
      "cell_type": "code",
      "metadata": {
        "colab": {
          "base_uri": "https://localhost:8080/"
        },
        "id": "NFhoTglo8i-g",
        "outputId": "2a49c4f6-a846-44e9-dab5-cc63aad6f806"
      },
      "source": [
        "sample_train_df.count()"
      ],
      "execution_count": null,
      "outputs": [
        {
          "output_type": "execute_result",
          "data": {
            "text/plain": [
              "96229"
            ]
          },
          "metadata": {
            "tags": []
          },
          "execution_count": 18
        }
      ]
    },
    {
      "cell_type": "code",
      "metadata": {
        "id": "VB7pXOs49GWV"
      },
      "source": [
        "sample_train1 = sample_train_df"
      ],
      "execution_count": null,
      "outputs": []
    },
    {
      "cell_type": "markdown",
      "metadata": {
        "id": "D1Ycj08FzLcI"
      },
      "source": [
        "###Build a Pipeline to preprocess the text data/Embedding"
      ]
    },
    {
      "cell_type": "code",
      "metadata": {
        "id": "78VXYyS44I6z"
      },
      "source": [
        "from sparknlp.base import *\n",
        "from sparknlp.annotator import *"
      ],
      "execution_count": null,
      "outputs": []
    },
    {
      "cell_type": "code",
      "metadata": {
        "colab": {
          "base_uri": "https://localhost:8080/"
        },
        "id": "4prccmDCV-BH",
        "outputId": "a5bbf7c5-3ecb-4fa3-c2cc-a58499d10195"
      },
      "source": [
        "#Step0:DocumentAssembler to prepare our doc such as cleans up source text \n",
        "#and handes special charactoers and ner line thourgh 'cleanupMode'\n",
        "document = DocumentAssembler().setInputCol('comment').setOutputCol('document').setCleanupMode('shrink')\n",
        "\n",
        "#Step2: sentence detector\n",
        "#explode sentences imporves parallelism in large text concentration\n",
        "sentence = SentenceDetector().setInputCols(['document']).setOutputCol('sentences')\n",
        "\n",
        "#Step3: tokenize\n",
        "tokenize = Tokenizer().setInputCols(['sentences']).setOutputCol('token')\n",
        "\n",
        "#Step4:Nomalizer\n",
        "normalize = Normalizer().setInputCols(['token']).setOutputCol('normal').setLowercase(True)\n",
        "\n",
        "#step5: Spell checkers: SymmetircDetele or NorvigSweeting: Fix token typo\n",
        "#pretrained() function on AnnotatorModels retreive free open source pretrained models\n",
        "checker = NorvigSweetingModel.pretrained().setInputCols(['normal']).setOutputCol('checked')\n",
        "\n",
        "#Stage6: Stemmer\n",
        "stem = Stemmer().setInputCols(['checked']).setOutputCol('stem')\n",
        "\n",
        "#Step6:SotpwordsCleaner\n",
        "stop_words_cleaner = StopWordsCleaner().setInputCols(['stem']).setOutputCol('clean_token')\n",
        "\n",
        "#Word embedding using BERT\n",
        "#bert = BertEmbeddings.pretrained('bert_base_cased', 'en').setInputCols(['document','clean_token']).setOutputCol('bert_embedding').setLazyAnnotator(False).setDimension(5)\n",
        "\n",
        "#Bert Sentence Embedding\n",
        "bert_sent = BertSentenceEmbeddings().pretrained()\\\n",
        "    .setInputCols(['sentences'])\\\n",
        "    .setOutputCol('bert_sentence').setLazyAnnotator(False).setDimension(5)\n",
        "\n",
        "\n",
        "nlpPipeline = Pipeline().setStages([document, sentence, tokenize, normalize, checker, \\\n",
        "                                  stem, stop_words_cleaner, bert_sent, classifier])\n"
      ],
      "execution_count": null,
      "outputs": [
        {
          "output_type": "stream",
          "text": [
            "sent_small_bert_L2_768 download started this may take some time.\n",
            "Approximate size to download 139.6 MB\n",
            "[OK!]\n",
            "sentimentdl_use_twitter download started this may take some time.\n",
            "Approximate size to download 11.4 MB\n",
            "[OK!]\n"
          ],
          "name": "stdout"
        }
      ]
    },
    {
      "cell_type": "code",
      "metadata": {
        "id": "z_bFJQux7UIi"
      },
      "source": [
        "transformed_df = nlpPipeline.fit(sample_train_df).transform(sample_train_df)"
      ],
      "execution_count": null,
      "outputs": []
    },
    {
      "cell_type": "code",
      "metadata": {
        "colab": {
          "base_uri": "https://localhost:8080/"
        },
        "id": "FDIhERnJB19d",
        "outputId": "5653baa9-cc9b-4663-a8dd-bc9bfa03812a"
      },
      "source": [
        "transformed_df.printSchema()"
      ],
      "execution_count": null,
      "outputs": [
        {
          "output_type": "stream",
          "text": [
            "root\n",
            " |-- _c0: string (nullable = true)\n",
            " |-- creator_name: string (nullable = true)\n",
            " |-- userid: string (nullable = true)\n",
            " |-- comment: string (nullable = true)\n",
            " |-- dog_cat: string (nullable = true)\n",
            " |-- no_pet: string (nullable = true)\n",
            " |-- label: string (nullable = true)\n",
            " |-- document: array (nullable = true)\n",
            " |    |-- element: struct (containsNull = true)\n",
            " |    |    |-- annotatorType: string (nullable = true)\n",
            " |    |    |-- begin: integer (nullable = false)\n",
            " |    |    |-- end: integer (nullable = false)\n",
            " |    |    |-- result: string (nullable = true)\n",
            " |    |    |-- metadata: map (nullable = true)\n",
            " |    |    |    |-- key: string\n",
            " |    |    |    |-- value: string (valueContainsNull = true)\n",
            " |    |    |-- embeddings: array (nullable = true)\n",
            " |    |    |    |-- element: float (containsNull = false)\n",
            " |-- sentences: array (nullable = true)\n",
            " |    |-- element: struct (containsNull = true)\n",
            " |    |    |-- annotatorType: string (nullable = true)\n",
            " |    |    |-- begin: integer (nullable = false)\n",
            " |    |    |-- end: integer (nullable = false)\n",
            " |    |    |-- result: string (nullable = true)\n",
            " |    |    |-- metadata: map (nullable = true)\n",
            " |    |    |    |-- key: string\n",
            " |    |    |    |-- value: string (valueContainsNull = true)\n",
            " |    |    |-- embeddings: array (nullable = true)\n",
            " |    |    |    |-- element: float (containsNull = false)\n",
            " |-- token: array (nullable = true)\n",
            " |    |-- element: struct (containsNull = true)\n",
            " |    |    |-- annotatorType: string (nullable = true)\n",
            " |    |    |-- begin: integer (nullable = false)\n",
            " |    |    |-- end: integer (nullable = false)\n",
            " |    |    |-- result: string (nullable = true)\n",
            " |    |    |-- metadata: map (nullable = true)\n",
            " |    |    |    |-- key: string\n",
            " |    |    |    |-- value: string (valueContainsNull = true)\n",
            " |    |    |-- embeddings: array (nullable = true)\n",
            " |    |    |    |-- element: float (containsNull = false)\n",
            " |-- normal: array (nullable = true)\n",
            " |    |-- element: struct (containsNull = true)\n",
            " |    |    |-- annotatorType: string (nullable = true)\n",
            " |    |    |-- begin: integer (nullable = false)\n",
            " |    |    |-- end: integer (nullable = false)\n",
            " |    |    |-- result: string (nullable = true)\n",
            " |    |    |-- metadata: map (nullable = true)\n",
            " |    |    |    |-- key: string\n",
            " |    |    |    |-- value: string (valueContainsNull = true)\n",
            " |    |    |-- embeddings: array (nullable = true)\n",
            " |    |    |    |-- element: float (containsNull = false)\n",
            " |-- checked: array (nullable = true)\n",
            " |    |-- element: struct (containsNull = true)\n",
            " |    |    |-- annotatorType: string (nullable = true)\n",
            " |    |    |-- begin: integer (nullable = false)\n",
            " |    |    |-- end: integer (nullable = false)\n",
            " |    |    |-- result: string (nullable = true)\n",
            " |    |    |-- metadata: map (nullable = true)\n",
            " |    |    |    |-- key: string\n",
            " |    |    |    |-- value: string (valueContainsNull = true)\n",
            " |    |    |-- embeddings: array (nullable = true)\n",
            " |    |    |    |-- element: float (containsNull = false)\n",
            " |-- stem: array (nullable = true)\n",
            " |    |-- element: struct (containsNull = true)\n",
            " |    |    |-- annotatorType: string (nullable = true)\n",
            " |    |    |-- begin: integer (nullable = false)\n",
            " |    |    |-- end: integer (nullable = false)\n",
            " |    |    |-- result: string (nullable = true)\n",
            " |    |    |-- metadata: map (nullable = true)\n",
            " |    |    |    |-- key: string\n",
            " |    |    |    |-- value: string (valueContainsNull = true)\n",
            " |    |    |-- embeddings: array (nullable = true)\n",
            " |    |    |    |-- element: float (containsNull = false)\n",
            " |-- clean_token: array (nullable = true)\n",
            " |    |-- element: struct (containsNull = true)\n",
            " |    |    |-- annotatorType: string (nullable = true)\n",
            " |    |    |-- begin: integer (nullable = false)\n",
            " |    |    |-- end: integer (nullable = false)\n",
            " |    |    |-- result: string (nullable = true)\n",
            " |    |    |-- metadata: map (nullable = true)\n",
            " |    |    |    |-- key: string\n",
            " |    |    |    |-- value: string (valueContainsNull = true)\n",
            " |    |    |-- embeddings: array (nullable = true)\n",
            " |    |    |    |-- element: float (containsNull = false)\n",
            " |-- bert_sentence: array (nullable = true)\n",
            " |    |-- element: struct (containsNull = true)\n",
            " |    |    |-- annotatorType: string (nullable = true)\n",
            " |    |    |-- begin: integer (nullable = false)\n",
            " |    |    |-- end: integer (nullable = false)\n",
            " |    |    |-- result: string (nullable = true)\n",
            " |    |    |-- metadata: map (nullable = true)\n",
            " |    |    |    |-- key: string\n",
            " |    |    |    |-- value: string (valueContainsNull = true)\n",
            " |    |    |-- embeddings: array (nullable = true)\n",
            " |    |    |    |-- element: float (containsNull = false)\n",
            "\n"
          ],
          "name": "stdout"
        }
      ]
    },
    {
      "cell_type": "code",
      "metadata": {
        "colab": {
          "base_uri": "https://localhost:8080/"
        },
        "id": "3bZuRutvCCxg",
        "outputId": "c998bd16-4017-4847-9f38-15992ad98625"
      },
      "source": [
        "transformed_df.select('bert_sentence.embeddings').show()"
      ],
      "execution_count": null,
      "outputs": [
        {
          "output_type": "stream",
          "text": [
            "+--------------------+\n",
            "|          embeddings|\n",
            "+--------------------+\n",
            "|[[0.46289614, -0....|\n",
            "|[[0.17598966, -0....|\n",
            "|[[0.12013, 0.0246...|\n",
            "|[[0.23815076, -0....|\n",
            "|[[0.43891796, -0....|\n",
            "|[[0.201562, -0.19...|\n",
            "|[[0.09835973, -0....|\n",
            "|[[0.2889648, -0.0...|\n",
            "|[[-0.18898217, 0....|\n",
            "|[[0.2697565, 0.00...|\n",
            "|[[0.003601325, 0....|\n",
            "|[[0.04141036, 0.0...|\n",
            "|[[0.28889224, 0.1...|\n",
            "|[[0.090274066, -0...|\n",
            "|[[-0.13652015, 0....|\n",
            "|[[-0.18248558, -0...|\n",
            "|[[0.34743783, 0.2...|\n",
            "|[[0.16330938, 0.0...|\n",
            "|[[0.029585354, 0....|\n",
            "|[[0.41166124, 0.1...|\n",
            "+--------------------+\n",
            "only showing top 20 rows\n",
            "\n"
          ],
          "name": "stdout"
        }
      ]
    },
    {
      "cell_type": "code",
      "metadata": {
        "colab": {
          "base_uri": "https://localhost:8080/"
        },
        "id": "GsyYrEuVU4av",
        "outputId": "47dd450c-ec28-402d-f0fe-776a5b1aa5b6"
      },
      "source": [
        "emb_vector = np.array(transformed_df.select('bert_sentence.embeddings').take(1))\n",
        "emb_vector"
      ],
      "execution_count": null,
      "outputs": [
        {
          "output_type": "execute_result",
          "data": {
            "text/plain": [
              "array([[[[ 4.62896138e-01, -2.25370213e-01,  1.02745183e-02,\n",
              "          -2.76800573e-01,  1.09414428e-01, -1.06401123e-01,\n",
              "           2.39372656e-01, -1.92180827e-01, -8.66874531e-02,\n",
              "          -1.86135992e-01,  3.69453847e-01,  2.80574188e-02,\n",
              "           3.65240991e-01,  2.06813768e-01,  3.56744826e-01,\n",
              "           5.14788777e-02, -2.93423664e-02,  3.55112165e-01,\n",
              "          -2.24962011e-01, -4.34143618e-02,  1.80959925e-01,\n",
              "           4.59852554e-02,  3.25410694e-01, -1.74582332e-01,\n",
              "           5.37889600e-02, -3.50600541e-01,  4.43296246e-02,\n",
              "           2.95121789e-01,  3.61517727e-01,  2.75462806e-01,\n",
              "          -1.75614674e-02, -3.61944616e-01, -7.44296163e-02,\n",
              "          -4.00695294e-01, -4.45494682e-01,  4.84888330e-02,\n",
              "          -2.58534223e-01, -6.00887761e-02, -2.20682584e-02,\n",
              "          -4.23685387e-02, -1.02630835e-02,  4.14224744e-01,\n",
              "          -2.64162421e-02, -8.89469832e-02, -4.63407440e-03,\n",
              "           1.57435417e-01, -1.01722606e-01,  5.61416984e-01,\n",
              "           1.15713142e-01, -5.52287623e-02,  1.57759249e-01,\n",
              "           2.66303658e-01,  1.19531825e-01, -1.87549099e-01,\n",
              "          -2.38294065e-01,  7.03627914e-02,  8.90004709e-02,\n",
              "           1.94613636e-03,  4.52495545e-01,  2.75959462e-01,\n",
              "          -6.58545315e-01,  1.74699366e-01,  4.21141461e-02,\n",
              "          -5.44977225e-02,  5.36265299e-02,  1.07890256e-01,\n",
              "          -1.69305384e-01,  3.98661047e-01,  1.25652626e-01,\n",
              "          -5.31495772e-02,  1.42225906e-01,  2.73024172e-01,\n",
              "          -8.17362964e-02, -5.56724310e-01, -7.44937873e-03,\n",
              "          -1.36917159e-01, -5.49251139e-01,  3.24358761e-01,\n",
              "          -9.85621363e-02, -6.00369573e-01,  7.41622737e-03,\n",
              "           2.69667834e-01, -7.85727650e-02,  3.05586964e-01,\n",
              "          -3.10274303e-01,  1.57954767e-01,  8.87484372e-01,\n",
              "          -7.44108930e-02,  1.27847359e-01, -3.37091714e-01,\n",
              "          -9.12841782e-02,  2.64458448e-01,  4.34312224e-01,\n",
              "          -5.44925511e-01, -1.79769903e-01,  2.16553621e-02,\n",
              "           3.76557559e-01,  1.62105739e-01,  3.66581500e-01,\n",
              "           1.77810222e-01, -3.48644108e-01,  9.33005288e-02,\n",
              "          -1.74783453e-01,  4.33593197e-03,  1.36472747e-01,\n",
              "           3.07211071e-01, -2.53232792e-02, -4.95624125e-01,\n",
              "          -3.00343573e-01,  1.08313123e-02,  2.06673890e-01,\n",
              "           7.12623835e-01, -8.95601735e-02,  3.57932717e-01,\n",
              "          -2.69438565e-01, -7.20451772e-02, -1.30156413e-01,\n",
              "           6.50851950e-02, -1.49522647e-01, -1.99421540e-01,\n",
              "          -1.76337436e-01, -9.49832648e-02,  2.61489987e-01,\n",
              "          -4.32469457e-01,  6.48766518e-01,  1.47082582e-01,\n",
              "           2.03053132e-02,  1.37472630e-01,  2.36264784e-02,\n",
              "          -5.32668710e-01, -3.43129486e-01, -4.99827266e-02,\n",
              "           1.33858924e-03,  2.18195856e-01,  2.14323148e-01,\n",
              "           1.14865780e-01, -2.86069587e-02,  1.90376580e-01,\n",
              "           3.35108817e-01, -2.03358129e-01,  5.48611358e-02,\n",
              "          -6.57220483e-02, -1.44334063e-01, -1.26159087e-01,\n",
              "           1.97817665e-03, -2.96281185e-02,  1.61039770e-01,\n",
              "          -3.31687443e-02,  3.59463334e-01, -1.37132004e-01,\n",
              "           2.43788108e-01,  1.43305838e-01, -2.84360051e-02,\n",
              "           2.32644171e-01, -3.71152870e-02, -1.25074670e-01,\n",
              "          -3.20410617e-02,  1.69779539e-01, -1.43536134e-03,\n",
              "          -5.75866461e-01,  5.96304331e-03,  1.70586452e-01,\n",
              "          -5.84155440e-01, -1.58629239e-01, -1.02992659e-03,\n",
              "           3.03760972e-02,  3.00108105e-01, -9.88721475e-02,\n",
              "           2.60965735e-01,  3.75227392e-01, -1.50072649e-01,\n",
              "           1.91619948e-01, -3.29381675e-01,  7.74935931e-02,\n",
              "          -1.99575663e-01, -3.08035016e-01,  4.56389412e-02,\n",
              "          -5.15261769e-01, -4.29912746e-01,  2.98105597e-01,\n",
              "          -6.17918372e-02,  1.11314766e-01, -1.60743520e-02,\n",
              "           1.15592986e-01, -8.92664269e-02,  1.98791586e-02,\n",
              "          -3.27039301e-01, -1.79784536e-01, -4.16359544e-01,\n",
              "          -9.85352919e-02,  9.97751281e-02, -1.97370842e-01,\n",
              "          -7.10769277e-03,  3.24655145e-01, -7.60826916e-02,\n",
              "          -4.58135381e-02, -1.61278814e-01,  5.71916044e-01,\n",
              "           5.52310348e-01, -8.52848068e-02, -4.12661612e-01,\n",
              "          -1.28548563e+00,  3.25511634e-01, -5.25270700e-02,\n",
              "          -1.23338819e-01,  1.31230667e-01,  3.29800136e-02,\n",
              "          -3.41252945e-02,  3.04381456e-02,  2.18025237e-01,\n",
              "           2.18645737e-01,  1.59738734e-01, -2.40893543e-01,\n",
              "          -1.33419946e-01, -2.04224423e-01,  4.58667278e-02,\n",
              "          -3.73611063e-01,  1.71337321e-01,  8.23701099e-02,\n",
              "           4.50174242e-01,  2.15990514e-01, -3.37163746e-01,\n",
              "           1.53164389e-02, -1.74236540e-02,  4.65975612e-01,\n",
              "           6.36862144e-02,  4.21119064e-01,  1.35209560e-01,\n",
              "           2.25281686e-01, -3.52155298e-01,  1.48081496e-01,\n",
              "          -4.65275049e-02,  9.39329565e-02, -1.30732924e-01,\n",
              "          -4.22987998e-01, -4.51925009e-01,  4.42908376e-01,\n",
              "          -2.44687378e-01, -4.39553708e-01,  8.29943046e-02,\n",
              "          -6.86867014e-02, -4.06913087e-02, -4.71145004e-01,\n",
              "           6.58552721e-02,  6.86084926e-02,  1.54181734e-01,\n",
              "           1.06374234e-01, -2.00208455e-01, -5.02041727e-02,\n",
              "           4.22050387e-01,  6.15644418e-02,  1.80223137e-01,\n",
              "          -1.80069655e-01,  7.42381960e-02, -3.55969846e-01,\n",
              "          -1.02756962e-01,  2.78256893e-01,  2.33149484e-01,\n",
              "           1.97860256e-01,  4.97990727e-01,  2.02476636e-01,\n",
              "           5.87586582e-01,  1.37332857e-01,  1.49877355e-01,\n",
              "           1.21199034e-01,  1.94664732e-01, -4.15828347e-01,\n",
              "          -1.54171973e-01,  6.23441875e-01,  1.53183401e-01,\n",
              "           2.66831994e-01, -5.31182140e-02,  1.47241324e-01,\n",
              "           2.86641121e-01,  1.83312029e-01, -1.06675930e-01,\n",
              "          -2.91943014e-01, -6.65103495e-02,  3.48467499e-01,\n",
              "           1.41926650e-02,  1.15423270e-01,  3.62164706e-01,\n",
              "          -1.30405754e-01,  1.60691500e-01,  7.95554966e-02,\n",
              "           2.74906337e-01,  4.07692254e-01, -4.55202788e-01,\n",
              "          -3.36219370e-01,  1.06956452e-01, -7.93421715e-02,\n",
              "           5.59915543e-01,  2.22030595e-01, -1.44573659e-01,\n",
              "          -4.52644467e-01, -1.79256290e-01,  4.49947774e-01,\n",
              "          -1.75070480e-01, -4.55548018e-02,  4.21185605e-02,\n",
              "           7.76649654e-01,  7.54923839e-03, -1.66000500e-01,\n",
              "          -3.10398221e-01,  2.47601584e-01, -1.29454017e-01,\n",
              "           5.24582574e-03,  1.10559568e-01,  2.76106536e-01,\n",
              "          -7.23456666e-02,  2.29164660e-01,  3.24296981e-01,\n",
              "          -3.09599251e-01,  4.27924961e-01,  1.07710823e-01,\n",
              "          -3.39743137e-01, -1.48763478e-01,  1.13311395e-01,\n",
              "           2.87042499e-01, -3.89980882e-01,  9.84271243e-02,\n",
              "           2.18940511e-01,  2.93958694e-01,  2.43174851e-01,\n",
              "           1.40559703e-01,  3.07763368e-01, -3.70299339e-01,\n",
              "           6.81191683e-04,  2.36929104e-01,  2.04048663e-01,\n",
              "          -1.28270715e-01, -2.49927118e-01,  1.96584135e-01,\n",
              "           2.80485824e-02, -1.15961589e-01, -1.51098594e-01,\n",
              "          -3.23838532e-01, -8.58941525e-02, -2.89270103e-01,\n",
              "           2.81848013e-01,  2.65781462e-01, -5.23576066e-02,\n",
              "          -2.36986458e-01,  3.69624525e-01, -2.32649326e-01,\n",
              "           6.25150725e-02, -3.84404242e-01,  6.22363016e-02,\n",
              "           1.19893126e-01, -2.10247502e-01,  4.13676631e-03,\n",
              "           5.70751071e-01,  1.64507050e-02, -1.85668647e-01,\n",
              "          -1.14832006e-01, -9.56487134e-02, -3.31001788e-01,\n",
              "           1.31473437e-01,  4.17277008e-01,  3.32917988e-01,\n",
              "          -3.61152351e-01,  1.30615503e-01, -3.07760507e-01,\n",
              "          -8.82241353e-02, -5.92325740e-02,  1.27064347e-01,\n",
              "          -2.19034459e-02, -2.84501493e-01, -7.45043680e-02,\n",
              "          -1.55415162e-01, -3.12576964e-02,  8.11310470e-01,\n",
              "           8.98455828e-02,  3.65019888e-02, -3.40597704e-02,\n",
              "          -2.53017694e-01, -9.79729742e-02,  1.83438390e-01,\n",
              "           2.54383057e-01,  2.76767612e-01, -2.01039970e-01,\n",
              "           1.40462384e-01, -4.16349657e-02,  2.03439534e-01,\n",
              "           1.39767647e-01, -4.32773143e-01,  1.24392584e-01,\n",
              "          -1.12209000e-01, -3.29682268e-02, -3.21071595e-01,\n",
              "          -1.45087168e-01,  1.04733780e-01, -3.46839398e-01,\n",
              "          -8.79736990e-02,  1.12347074e-01, -1.91167802e-01,\n",
              "           1.92707270e-01,  6.66671097e-01, -1.52189404e-01,\n",
              "           3.46091211e-01, -4.63909835e-01, -9.25995037e-02,\n",
              "           3.23305190e-01,  6.27205744e-02, -1.54416576e-01,\n",
              "           4.08629328e-01, -1.90068521e-02, -1.73267260e-01,\n",
              "           7.03154691e-03,  5.35381585e-03,  1.27348915e-01,\n",
              "           1.18761793e-01,  1.02035038e-01, -8.94571394e-02,\n",
              "          -1.30053133e-01,  1.21415660e-01,  3.71470839e-01,\n",
              "          -1.19630687e-01, -1.02780946e-01,  5.72855864e-03,\n",
              "          -6.31456316e-01,  4.37691092e-01, -1.01100085e-02,\n",
              "          -1.47375882e-01,  5.22208065e-02, -5.39838150e-02,\n",
              "           5.56330144e-01, -2.31159618e-03,  4.00720179e-01,\n",
              "          -1.03337571e-01,  6.11095652e-02, -4.50674891e-02,\n",
              "           2.49288887e-01,  3.80936146e-01, -2.50838250e-01,\n",
              "           1.81559503e-01, -6.66267455e-01, -4.71288487e-02,\n",
              "           9.42586809e-02,  2.89645255e-01,  1.07135981e-01,\n",
              "           1.67820737e-01,  6.37773797e-02,  4.36787188e-01,\n",
              "          -7.13173524e-02,  1.47088379e-01, -5.33473343e-02,\n",
              "          -1.42904788e-01, -2.56985724e-01,  6.43727854e-02,\n",
              "          -1.60137832e-01, -2.10728720e-01,  9.40294340e-02,\n",
              "          -3.08090866e-01,  1.39044940e-01,  5.45378387e-01,\n",
              "           8.73576105e-02, -2.15610173e-02, -1.10310726e-01,\n",
              "           3.26223314e-01,  4.40834127e-02, -1.39377555e-02,\n",
              "           3.65589112e-01, -6.39122546e-01, -4.38577682e-02,\n",
              "           3.48934025e-01,  3.30034763e-01,  1.28749847e-01,\n",
              "           4.02939975e-01,  8.10787827e-02,  7.94216767e-02,\n",
              "           3.61582190e-01,  7.12468699e-02, -1.10910095e-01,\n",
              "          -3.64695489e-01,  1.61527097e-01,  1.16993003e-01,\n",
              "           2.80507863e-01,  1.60139143e-01, -2.88561463e-01,\n",
              "          -2.10887372e-01, -1.51579216e-01, -1.55738130e-01,\n",
              "          -2.37948641e-01, -1.64714798e-01, -2.86354870e-01,\n",
              "           3.01406175e-01, -8.04679096e-02, -2.93593615e-01,\n",
              "           6.87053129e-02,  2.31687561e-01,  1.22230798e-01,\n",
              "          -6.44383836e-04,  3.25017469e-03,  1.93982467e-01,\n",
              "           2.43485458e-02, -4.07895416e-01, -2.82867730e-01,\n",
              "           3.47616166e-01,  7.53350407e-02, -9.61186066e-02,\n",
              "           2.49672541e-03,  1.78718731e-01, -3.97248417e-01,\n",
              "           3.19568664e-01,  1.49202600e-01, -2.59271085e-01,\n",
              "           1.83689222e-01, -6.06632411e-01,  2.30501890e-01,\n",
              "           6.33722067e-01,  5.79707064e-02, -2.09158838e-01,\n",
              "           1.22153752e-01, -3.89080852e-01, -7.19724670e-02,\n",
              "           4.24272828e-02, -1.33434013e-01,  1.57668784e-01,\n",
              "           1.35642022e-01,  6.27723262e-02, -2.53636092e-01,\n",
              "           8.65985602e-02,  1.37542397e-01, -2.91692734e-01,\n",
              "           1.62787363e-01,  1.71523914e-01,  2.40676165e-01,\n",
              "           1.73986480e-01, -2.26280406e-01,  4.89544332e-01,\n",
              "          -4.69141543e-01, -6.98956624e-02, -3.07695389e-01,\n",
              "          -3.29628676e-01,  2.18676910e-01, -5.62533364e-02,\n",
              "           7.13640749e-02, -1.08425766e-01, -1.39751568e-01,\n",
              "          -1.80758629e-02,  2.92161386e-02, -3.45558077e-02,\n",
              "          -1.53997451e-01,  5.45982160e-02,  8.08607694e-03,\n",
              "           2.59245902e-01, -3.14189106e-01,  3.74232113e-01,\n",
              "           4.02728587e-01, -7.59348720e-02, -4.21242982e-01,\n",
              "          -3.25041950e-01,  2.30307758e-01, -4.79911476e-01,\n",
              "          -6.85799792e-02, -2.30194420e-01,  8.81703645e-02,\n",
              "          -2.88930573e-02, -3.67393762e-01,  1.32664308e-01,\n",
              "           1.96304128e-01, -1.47200644e-01,  5.86047582e-02,\n",
              "           4.44853514e-01,  1.79767698e-01, -4.17978317e-01,\n",
              "           6.22134358e-02,  2.39089221e-01, -1.64274946e-01,\n",
              "           4.11231183e-02,  2.54400633e-02,  2.62278855e-01,\n",
              "           4.94975112e-02,  4.51486170e-01, -2.91368395e-01,\n",
              "           2.11914599e-01,  4.64813858e-02, -4.79987375e-02,\n",
              "           1.67157903e-01,  1.48642436e-01,  2.17326254e-01,\n",
              "           6.96467981e-02, -6.21902235e-02,  8.96098185e-03,\n",
              "           4.26576674e-01, -1.65064618e-01, -1.57277167e-01,\n",
              "           2.39819631e-01,  2.65361398e-01, -3.48984778e-01,\n",
              "          -4.81614381e-01,  6.47276416e-02,  3.43590289e-01,\n",
              "           1.15335606e-01,  1.14971511e-01,  5.05371056e-02,\n",
              "          -7.16308365e-03, -2.71727026e-01,  8.88214111e-02,\n",
              "          -3.55874687e-01,  1.88237339e-01,  6.84413612e-02,\n",
              "          -8.03574696e-02, -3.86503845e-01, -7.04400182e-01,\n",
              "           4.21354264e-01, -1.81396708e-01, -8.74519169e-01,\n",
              "          -2.19725803e-01,  1.82094090e-02,  7.49549717e-02,\n",
              "           8.14605430e-02, -2.07089961e-01, -9.54390243e-02,\n",
              "          -5.11924736e-02,  7.31115788e-02, -4.61967438e-01,\n",
              "          -6.04642868e-01,  2.07761362e-01,  3.72393578e-02,\n",
              "           8.72291718e-03, -5.47925651e-01, -2.57797707e-02,\n",
              "          -2.34105930e-01,  4.96894181e-01,  1.40116245e-01,\n",
              "          -2.36481607e-01, -1.98773548e-01,  1.38377652e-01,\n",
              "          -2.04672113e-01, -1.25609323e-01,  1.91567764e-02,\n",
              "           1.79911271e-01, -3.79695535e-01, -1.99209601e-01,\n",
              "          -1.81174964e-01,  1.34728029e-01, -3.93388629e-01,\n",
              "          -8.08349997e-02, -4.23228927e-02, -2.12022349e-01,\n",
              "          -1.85217083e-01,  4.93397098e-03,  4.68967259e-01,\n",
              "          -3.46749872e-01, -4.78243172e-01, -2.29532644e-01,\n",
              "          -1.45973355e-01, -3.61153185e-01, -2.19254225e-01,\n",
              "          -3.25477980e-02,  2.59558558e-01, -1.86749235e-01,\n",
              "           5.51593155e-02, -7.81575665e-02, -2.20171243e-01,\n",
              "          -1.53628513e-01,  2.69049436e-01,  2.26601526e-01,\n",
              "          -2.89534610e-02, -8.77524987e-02, -4.44982082e-01,\n",
              "           2.12370113e-01,  5.68818264e-02,  1.58497900e-01,\n",
              "          -1.58631951e-01,  6.35736212e-02,  2.39367560e-01,\n",
              "          -2.66253650e-01,  1.93988159e-02, -1.30209401e-01,\n",
              "           1.18691429e-01,  1.95929810e-01, -2.92715162e-01,\n",
              "          -6.36534572e-01, -3.74102592e-01, -3.06164231e-02,\n",
              "           2.73682550e-02, -1.59281507e-01,  2.05076307e-01,\n",
              "          -1.08823173e-01, -4.34369206e-01, -1.07896343e-01,\n",
              "          -9.02025178e-02, -2.91558057e-01, -3.41721416e-01,\n",
              "           2.77510379e-03, -1.55622035e-01, -1.80461645e-01,\n",
              "          -4.90898609e-01,  1.71647742e-01,  5.14143348e-01,\n",
              "          -1.98533535e-01,  1.64072327e-02, -3.62855941e-02,\n",
              "           5.43486953e-01, -4.37558489e-03,  1.35048136e-01,\n",
              "           2.68941335e-02, -1.31511346e-01, -1.94646895e-01,\n",
              "          -1.79068327e-01, -2.79657722e-01, -3.00547749e-01,\n",
              "          -2.54288137e-01, -2.78206617e-01,  8.09249640e-01,\n",
              "          -2.79153019e-01,  3.80953327e-02,  2.56612927e-01,\n",
              "          -3.36739212e-01, -2.34353662e+00,  1.80394620e-01,\n",
              "          -3.55339497e-01,  4.21149790e-01, -2.81897157e-01,\n",
              "          -1.50932632e-02, -2.48882458e-01, -1.10121399e-01,\n",
              "          -2.52966851e-01, -2.96487838e-01,  1.30984420e-02,\n",
              "          -4.89802629e-01,  2.32964545e-01, -4.38181549e-01,\n",
              "          -1.38071984e-01, -1.34728149e-01,  1.10745683e-01,\n",
              "          -1.48692608e-01,  1.31521272e-02, -1.51360199e-01,\n",
              "           2.32812315e-01, -7.80500844e-02, -4.74900790e-02,\n",
              "          -1.54023126e-01,  6.83251172e-02,  6.73757255e-01,\n",
              "          -2.06168130e-01,  1.56661078e-01,  1.32044479e-01,\n",
              "           3.87781769e-01,  1.78864766e-02,  1.75953925e-01,\n",
              "           8.18133131e-02, -3.00733596e-01, -1.40892074e-01,\n",
              "           3.10202658e-01,  1.12503625e-01, -1.32711172e-01,\n",
              "          -2.60253578e-01,  1.38732880e-01,  1.18933275e-01,\n",
              "           2.70128459e-01, -1.04190141e-01,  1.84478946e-02,\n",
              "           1.89301476e-01, -4.39214826e-01, -6.25742553e-03,\n",
              "           1.71615228e-01, -2.96897799e-01, -8.13575834e-02,\n",
              "          -1.73674285e-01,  6.97913542e-02, -2.29310736e-01,\n",
              "           4.95010652e-02, -4.28068191e-01, -5.09378128e-03]]]])"
            ]
          },
          "metadata": {
            "tags": []
          },
          "execution_count": 35
        }
      ]
    },
    {
      "cell_type": "markdown",
      "metadata": {
        "id": "vvYQ0RkhOLux"
      },
      "source": [
        "###Build a Pipeline for Sentiment Analysis"
      ]
    },
    {
      "cell_type": "code",
      "metadata": {
        "id": "eId2esF_LBs3"
      },
      "source": [
        "documentAssembler = DocumentAssembler()\\\n",
        "    .setInputCol(\"comment\")\\\n",
        "    .setOutputCol(\"document\")\n",
        "    \n",
        "use = UniversalSentenceEncoder.pretrained(name=\"tfhub_use\", lang=\"en\")\\\n",
        " .setInputCols([\"document\"])\\\n",
        " .setOutputCol(\"sentence_embeddings\")\n",
        "\n",
        "\n",
        "sentimentdl = SentimentDLModel.pretrained(name='sentimentdl_use_twitter', lang=\"en\")\\\n",
        "    .setInputCols([\"sentence_embeddings\"])\\\n",
        "    .setOutputCol(\"sentiment\")\n",
        "\n",
        "sentimentPipeline = Pipeline(\n",
        "      stages = [\n",
        "          documentAssembler,\n",
        "          use,\n",
        "          sentimentdl\n",
        "      ])"
      ],
      "execution_count": null,
      "outputs": []
    },
    {
      "cell_type": "code",
      "metadata": {
        "id": "mYWfBktqLRyJ"
      },
      "source": [
        "result = sentimentPipeline.fit(sample_train_df).transform(sample_train_df)"
      ],
      "execution_count": null,
      "outputs": []
    },
    {
      "cell_type": "code",
      "metadata": {
        "colab": {
          "base_uri": "https://localhost:8080/"
        },
        "id": "ARHr-HTcNKpy",
        "outputId": "6bca41b4-9895-476e-e7b9-d89f8ad0ab17"
      },
      "source": [
        "result.select(['label','sentiment']).show(truncate=False)"
      ],
      "execution_count": null,
      "outputs": [
        {
          "output_type": "stream",
          "text": [
            "+-----+----------------------------------------------------------------------------------------------------+\n",
            "|label|sentiment                                                                                           |\n",
            "+-----+----------------------------------------------------------------------------------------------------+\n",
            "|1.0  |[[category, 0, 67, negative, [sentence -> 0, positive -> 0.39856157, negative -> 0.6014384], []]]   |\n",
            "|1.0  |[[category, 0, 194, negative, [sentence -> 0, positive -> 0.0014285817, negative -> 0.9985714], []]]|\n",
            "|1.0  |[[category, 0, 127, neutral, [sentence -> 0, positive -> 0.5587931, negative -> 0.4412069], []]]    |\n",
            "|1.0  |[[category, 0, 22, positive, [sentence -> 0, positive -> 1.0, negative -> 1.3994341E-21], []]]      |\n",
            "|1.0  |[[category, 0, 41, positive, [sentence -> 0, positive -> 1.0, negative -> 0.0], []]]                |\n",
            "|1.0  |[[category, 0, 194, negative, [sentence -> 0, positive -> 2.5638668E-8, negative -> 1.0], []]]      |\n",
            "|1.0  |[[category, 0, 227, negative, [sentence -> 0, positive -> 0.0, negative -> 1.0], []]]               |\n",
            "|1.0  |[[category, 0, 56, negative, [sentence -> 0, positive -> 0.0, negative -> 1.0], []]]                |\n",
            "|1.0  |[[category, 0, 56, positive, [sentence -> 0, positive -> 1.0, negative -> 1.4295825E-25], []]]      |\n",
            "|1.0  |[[category, 0, 154, negative, [sentence -> 0, positive -> 0.0, negative -> 1.0], []]]               |\n",
            "|1.0  |[[category, 0, 47, negative, [sentence -> 0, positive -> 0.00909841, negative -> 0.9909016], []]]   |\n",
            "|1.0  |[[category, 0, 35, negative, [sentence -> 0, positive -> 0.0, negative -> 1.0], []]]                |\n",
            "|1.0  |[[category, 0, 116, neutral, [sentence -> 0, positive -> 0.45210013, negative -> 0.5478999], []]]   |\n",
            "|1.0  |[[category, 0, 113, positive, [sentence -> 0, positive -> 0.9472164, negative -> 0.052783616], []]] |\n",
            "|1.0  |[[category, 0, 37, positive, [sentence -> 0, positive -> 0.91810864, negative -> 0.081891336], []]] |\n",
            "|1.0  |[[category, 0, 26, negative, [sentence -> 0, positive -> 1.0140082E-5, negative -> 0.99998987], []]]|\n",
            "|1.0  |[[category, 0, 57, negative, [sentence -> 0, positive -> 4.268481E-18, negative -> 1.0], []]]       |\n",
            "|1.0  |[[category, 0, 43, negative, [sentence -> 0, positive -> 2.9853787E-16, negative -> 1.0], []]]      |\n",
            "|1.0  |[[category, 0, 126, negative, [sentence -> 0, positive -> 4.6692457E-13, negative -> 1.0], []]]     |\n",
            "|1.0  |[[category, 0, 217, neutral, [sentence -> 0, positive -> 0.49398, negative -> 0.50602007], []]]     |\n",
            "+-----+----------------------------------------------------------------------------------------------------+\n",
            "only showing top 20 rows\n",
            "\n"
          ],
          "name": "stdout"
        }
      ]
    },
    {
      "cell_type": "markdown",
      "metadata": {
        "id": "j4sN7WOkOqXC"
      },
      "source": [
        "###Word Embedding by sparkml"
      ]
    },
    {
      "cell_type": "code",
      "metadata": {
        "colab": {
          "base_uri": "https://localhost:8080/"
        },
        "id": "a8vlZVanCCpg",
        "outputId": "0909fc3e-0e7d-4e1c-f965-ddd482920557"
      },
      "source": [
        " from sparknlp.base import *\n",
        "from pyspark.ml.feature import StopWordsRemover\n",
        "from pyspark.ml.feature import RegexTokenizer, StopWordsRemover, Word2Vec\n",
        "from pyspark.ml import Pipeline\n",
        "from pyspark.sql.functions import col, udf\n",
        "\n",
        "\n",
        "#Create feature transformers\n",
        "#Regular expression tokenizer; break sentence into individual term base on regular expression\n",
        "regexpTokenizer = RegexTokenizer(inputCol='comment', outputCol='words', pattern='\\\\W', toLowercase=True)\n",
        "\n",
        "#Stop words removing, such as i, a, the...,etc.\n",
        "remover = StopWordsRemover(inputCol=\"words\", outputCol=\"filtered\")\n",
        "\n",
        "#Construct a pipeline\n",
        "pipeline = Pipeline(stages = [regexpTokenizer, remover])\n",
        "\n",
        "#Fit and Transform data\n",
        "pipelineModel = pipeline.fit(sample_training_df)\n",
        "clean_training_df = pipelineModel.transform(sample_training_df)\n",
        "clean_test_df = pipelineModel.transform(test)\n",
        "clean_training_df.cache()\n",
        "clean_test_df.cache()\n",
        "clean_training_df.show()"
      ],
      "execution_count": null,
      "outputs": [
        {
          "output_type": "stream",
          "text": [
            "+------------------+---------+--------------------+-------+------+-----+--------------------+--------------------+\n",
            "|      creator_name|   userid|             comment|dog_cat|no_pet|label|               words|            filtered|\n",
            "+------------------+---------+--------------------+-------+------+-----+--------------------+--------------------+\n",
            "|    Aarons Animals|2285699.0|Never gonna happe...|   true| false|  1.0|[never, gonna, ha...|[never, gonna, ha...|\n",
            "|Alex Knappenberger| 517292.0|Kid thinks he is ...|   true| false|  1.0|[kid, thinks, he,...|[kid, thinks, coo...|\n",
            "|  Brave Wilderness| 212789.0|The crab is cuter...|   true| false|  1.0|[the, crab, is, c...|[crab, cuter, dog...|\n",
            "|  Brave Wilderness|1008240.0|Omg it’s so adora...|   true| false|  1.0|[omg, it, s, so, ...|[omg, adorable, s...|\n",
            "|     Brian Barczyk|  33429.0|Im crying along w...|   true| false|  1.0|[im, crying, alon...|[im, crying, alon...|\n",
            "|     Brian Barczyk| 124380.0|Arty will get bet...|   true| false|  1.0|[arty, will, get,...|[arty, get, bette...|\n",
            "|     Brian Barczyk| 458191.0|I totally know ho...|   true| false|  1.0|[i, totally, know...|[totally, know, f...|\n",
            "|     Brian Barczyk| 894048.0|I feel bad for yo...|   true| false|  1.0|[i, feel, bad, fo...|[feel, bad, dog, ...|\n",
            "|     Brian Barczyk|1564810.0|Hey my dog is 4 y...|   true| false|  1.0|[hey, my, dog, is...|[hey, dog, 4, yea...|\n",
            "|     Brian Barczyk|1772442.0|I wish I could vi...|   true| false|  1.0|[i, wish, i, coul...|[wish, visit, bra...|\n",
            "|     Brian Barczyk|1996262.0|Number 5 because ...|   true| false|  1.0|[number, 5, becau...|[number, 5, cats,...|\n",
            "|     Brian Barczyk|2351519.0|I feel you my dog...|   true| false|  1.0|[i, feel, you, my...|    [feel, dog, put]|\n",
            "|         Bully Max| 954499.0|Thats why I adopt...|   true| false|  1.0|[thats, why, i, a...|[thats, adopted, ...|\n",
            "|     Cat Man Chris| 698142.0|my cat loves my f...|   true| false|  1.0|[my, cat, loves, ...|[cat, loves, file...|\n",
            "|  Cole & Marmalade| 441818.0|my cat is a Bagel...|   true| false|  1.0|[my, cat, is, a, ...| [cat, bagel, right]|\n",
            "|  Cole & Marmalade| 599397.0|This is the reaso...|   true| false|  1.0|[this, is, the, r...|[reason, dont, le...|\n",
            "|  Cole & Marmalade| 784491.0|my cats know they...|   true| false|  1.0|[my, cats, know, ...|[cats, know, they...|\n",
            "|  Cole & Marmalade| 788791.0|No idea why i wat...|   true| false|  1.0|[no, idea, why, i...|[idea, watched, 1...|\n",
            "|  Cole & Marmalade| 846766.0|I like to sing in...|   true| false|  1.0|[i, like, to, sin...|[like, sing, fron...|\n",
            "|  Cole & Marmalade| 913872.0|As for the mirror...|   true| false|  1.0|[as, for, the, mi...|[mirror, thing, d...|\n",
            "+------------------+---------+--------------------+-------+------+-----+--------------------+--------------------+\n",
            "only showing top 20 rows\n",
            "\n"
          ],
          "name": "stdout"
        }
      ]
    },
    {
      "cell_type": "markdown",
      "metadata": {
        "id": "62bLxHcaWjtZ"
      },
      "source": [
        "**Build a stem function from scratch and CountVectorizer**"
      ]
    },
    {
      "cell_type": "code",
      "metadata": {
        "colab": {
          "base_uri": "https://localhost:8080/"
        },
        "id": "OZbGo3-3X4LB",
        "outputId": "f6b33d71-e86d-4562-ce41-583923a8ce86"
      },
      "source": [
        "#built a stmmer function b/c spark ml didn't support\n",
        "from nltk.stem.porter import *\n",
        "from pyspark.ml.feature import CountVectorizer, CountVectorizerModel\n",
        "\n",
        "# Instantiate stemmer object\n",
        "stemmer = PorterStemmer()\n",
        "\n",
        "# Create stemmer python function\n",
        "def stem(words):\n",
        "    out_words = []\n",
        "    for word in words:\n",
        "        stem_word = stemmer.stem(word)\n",
        "        if len(stem_word) > 2:\n",
        "            out_words.append(stem_word)       \n",
        "    return out_words\n",
        "\n",
        "# Create user defined function for stemming with return type Array<String>\n",
        "from pyspark.sql.types import *\n",
        "stemmer_udf = udf(lambda x: stem(x), ArrayType(StringType())) #iterate each row as input for function stem\n",
        "\n",
        "# Create new column with vectors containing the stemmed tokens \n",
        "clean_training_df = clean_training_df.withColumn(\"stem_comment\", stemmer_udf(\"filtered\"))\n",
        "clean_test_df = clean_test_df.withColumn(\"stem_comment\", stemmer_udf(\"filtered\"))\n",
        "\n",
        "clean_training_df.cache()\n",
        "clean_test_df.cache()\n",
        "clean_training_df.show()"
      ],
      "execution_count": null,
      "outputs": [
        {
          "output_type": "stream",
          "text": [
            "+----------------+---------+--------------------+-------+------+-----+--------------------+--------------------+--------------------+\n",
            "|    creator_name|   userid|             comment|dog_cat|no_pet|label|               words|            filtered|        stem_comment|\n",
            "+----------------+---------+--------------------+-------+------+-----+--------------------+--------------------+--------------------+\n",
            "|  Aarons Animals|2285699.0|Never gonna happe...|   true| false|  1.0|[never, gonna, ha...|[never, gonna, ha...|[never, gonna, ha...|\n",
            "|Brave Wilderness| 212789.0|The crab is cuter...|   true| false|  1.0|[the, crab, is, c...|[crab, cuter, dog...|[crab, cuter, dog...|\n",
            "|Brave Wilderness|1008240.0|Omg it’s so adora...|   true| false|  1.0|[omg, it, s, so, ...|[omg, adorable, s...|[omg, ador, sound...|\n",
            "|   Brian Barczyk|  33429.0|Im crying along w...|   true| false|  1.0|[im, crying, alon...|[im, crying, alon...|[cri, along, dog,...|\n",
            "|   Brian Barczyk| 124380.0|Arty will get bet...|   true| false|  1.0|[arty, will, get,...|[arty, get, bette...|[arti, get, bette...|\n",
            "|   Brian Barczyk| 410371.0|that happend to m...|   true| false|  1.0|[that, happend, t...|      [happend, dog]|      [happend, dog]|\n",
            "|   Brian Barczyk| 458191.0|I totally know ho...|   true| false|  1.0|[i, totally, know...|[totally, know, f...|[total, know, fee...|\n",
            "|   Brian Barczyk| 894048.0|I feel bad for yo...|   true| false|  1.0|[i, feel, bad, fo...|[feel, bad, dog, ...|[feel, bad, dog, ...|\n",
            "|   Brian Barczyk|1564810.0|Hey my dog is 4 y...|   true| false|  1.0|[hey, my, dog, is...|[hey, dog, 4, yea...|[hey, dog, year, ...|\n",
            "|   Brian Barczyk|1766603.0|Im really crying ...|   true| false|  1.0|[im, really, cryi...|[im, really, cryi...|[realli, cri, dog...|\n",
            "|   Brian Barczyk|1996262.0|Number 5 because ...|   true| false|  1.0|[number, 5, becau...|[number, 5, cats,...|[number, cat, tur...|\n",
            "|   Brian Barczyk|2351519.0|I feel you my dog...|   true| false|  1.0|[i, feel, you, my...|    [feel, dog, put]|    [feel, dog, put]|\n",
            "|       Bully Max| 954499.0|Thats why I adopt...|   true| false|  1.0|[thats, why, i, a...|[thats, adopted, ...|[that, adopt, yea...|\n",
            "|   Cat Man Chris| 698142.0|my cat loves my f...|   true| false|  1.0|[my, cat, loves, ...|[cat, loves, file...|[cat, love, file,...|\n",
            "|   Cat Man Chris| 762407.0|my cat Shadow is ...|   true| false|  1.0|[my, cat, shadow,...|[cat, shadow, lik...|[cat, shadow, lik...|\n",
            "|Cole & Marmalade| 441818.0|my cat is a Bagel...|   true| false|  1.0|[my, cat, is, a, ...| [cat, bagel, right]| [cat, bagel, right]|\n",
            "|Cole & Marmalade| 599397.0|This is the reaso...|   true| false|  1.0|[this, is, the, r...|[reason, dont, le...|[reason, dont, le...|\n",
            "|Cole & Marmalade| 784491.0|my cats know they...|   true| false|  1.0|[my, cats, know, ...|[cats, know, they...|[cat, know, theyr...|\n",
            "|Cole & Marmalade| 788791.0|No idea why i wat...|   true| false|  1.0|[no, idea, why, i...|[idea, watched, 1...|[idea, watch, pit...|\n",
            "|Cole & Marmalade| 846766.0|I like to sing in...|   true| false|  1.0|[i, like, to, sin...|[like, sing, fron...|[like, sing, fron...|\n",
            "+----------------+---------+--------------------+-------+------+-----+--------------------+--------------------+--------------------+\n",
            "only showing top 20 rows\n",
            "\n"
          ],
          "name": "stdout"
        }
      ]
    },
    {
      "cell_type": "code",
      "metadata": {
        "colab": {
          "base_uri": "https://localhost:8080/"
        },
        "id": "2B8tSJUQZrg0",
        "outputId": "95b3bc63-c827-482b-cfa0-90e2c3f839bc"
      },
      "source": [
        "#Word2vec\n",
        "word2Vec = Word2Vec(inputCol='stem_comment', outputCol='word2vec')\n",
        "word2vec_model = word2Vec.fit(clean_training_df)\n",
        "w2v_training_df = word2vec_model.transform(clean_training_df)\n",
        "w2v_test_df = word2vec_model.transform(clean_test_df)\n",
        "\n",
        "#cache data\n",
        "w2v_training_df.cache()\n",
        "w2v_test_df.cache()\n",
        "w2v_training_df.show()"
      ],
      "execution_count": null,
      "outputs": [
        {
          "output_type": "stream",
          "text": [
            "+----------------+---------+--------------------+-------+------+-----+--------------------+--------------------+--------------------+--------------------+\n",
            "|    creator_name|   userid|             comment|dog_cat|no_pet|label|               words|            filtered|        stem_comment|            word2vec|\n",
            "+----------------+---------+--------------------+-------+------+-----+--------------------+--------------------+--------------------+--------------------+\n",
            "|  Aarons Animals|2285699.0|Never gonna happe...|   true| false|  1.0|[never, gonna, ha...|[never, gonna, ha...|[never, gonna, ha...|[0.05999122526554...|\n",
            "|Brave Wilderness| 212789.0|The crab is cuter...|   true| false|  1.0|[the, crab, is, c...|[crab, cuter, dog...|[crab, cuter, dog...|[0.00284937682694...|\n",
            "|Brave Wilderness|1008240.0|Omg it’s so adora...|   true| false|  1.0|[omg, it, s, so, ...|[omg, adorable, s...|[omg, ador, sound...|[0.01973844617605...|\n",
            "|   Brian Barczyk|  33429.0|Im crying along w...|   true| false|  1.0|[im, crying, alon...|[im, crying, alon...|[cri, along, dog,...|[-0.0165511167659...|\n",
            "|   Brian Barczyk| 124380.0|Arty will get bet...|   true| false|  1.0|[arty, will, get,...|[arty, get, bette...|[arti, get, bette...|[-0.0213288798928...|\n",
            "|   Brian Barczyk| 410371.0|that happend to m...|   true| false|  1.0|[that, happend, t...|      [happend, dog]|      [happend, dog]|[0.07765127718448...|\n",
            "|   Brian Barczyk| 458191.0|I totally know ho...|   true| false|  1.0|[i, totally, know...|[totally, know, f...|[total, know, fee...|[0.02776821194724...|\n",
            "|   Brian Barczyk| 894048.0|I feel bad for yo...|   true| false|  1.0|[i, feel, bad, fo...|[feel, bad, dog, ...|[feel, bad, dog, ...|[3.90965801974137...|\n",
            "|   Brian Barczyk|1564810.0|Hey my dog is 4 y...|   true| false|  1.0|[hey, my, dog, is...|[hey, dog, 4, yea...|[hey, dog, year, ...|[-0.0268629300408...|\n",
            "|   Brian Barczyk|1766603.0|Im really crying ...|   true| false|  1.0|[im, really, cryi...|[im, really, cryi...|[realli, cri, dog...|[0.04198040932533...|\n",
            "|   Brian Barczyk|1996262.0|Number 5 because ...|   true| false|  1.0|[number, 5, becau...|[number, 5, cats,...|[number, cat, tur...|[-0.0292427506297...|\n",
            "|   Brian Barczyk|2351519.0|I feel you my dog...|   true| false|  1.0|[i, feel, you, my...|    [feel, dog, put]|    [feel, dog, put]|[-0.0253957932194...|\n",
            "|       Bully Max| 954499.0|Thats why I adopt...|   true| false|  1.0|[thats, why, i, a...|[thats, adopted, ...|[that, adopt, yea...|[-0.0333698063958...|\n",
            "|   Cat Man Chris| 698142.0|my cat loves my f...|   true| false|  1.0|[my, cat, loves, ...|[cat, loves, file...|[cat, love, file,...|[0.01522939584471...|\n",
            "|   Cat Man Chris| 762407.0|my cat Shadow is ...|   true| false|  1.0|[my, cat, shadow,...|[cat, shadow, lik...|[cat, shadow, lik...|[-0.0186658762395...|\n",
            "|Cole & Marmalade| 441818.0|my cat is a Bagel...|   true| false|  1.0|[my, cat, is, a, ...| [cat, bagel, right]| [cat, bagel, right]|[0.03143576035896...|\n",
            "|Cole & Marmalade| 599397.0|This is the reaso...|   true| false|  1.0|[this, is, the, r...|[reason, dont, le...|[reason, dont, le...|[-0.0079081285744...|\n",
            "|Cole & Marmalade| 784491.0|my cats know they...|   true| false|  1.0|[my, cats, know, ...|[cats, know, they...|[cat, know, theyr...|[0.03030491173267...|\n",
            "|Cole & Marmalade| 788791.0|No idea why i wat...|   true| false|  1.0|[no, idea, why, i...|[idea, watched, 1...|[idea, watch, pit...|[0.00752598419785...|\n",
            "|Cole & Marmalade| 846766.0|I like to sing in...|   true| false|  1.0|[i, like, to, sin...|[like, sing, fron...|[like, sing, fron...|[0.04724378055996...|\n",
            "+----------------+---------+--------------------+-------+------+-----+--------------------+--------------------+--------------------+--------------------+\n",
            "only showing top 20 rows\n",
            "\n"
          ],
          "name": "stdout"
        }
      ]
    },
    {
      "cell_type": "markdown",
      "metadata": {
        "id": "95kyVWa0_c0H"
      },
      "source": [
        "#Part 3:Model Training"
      ]
    },
    {
      "cell_type": "markdown",
      "metadata": {
        "id": "JazwhmY2_S7d"
      },
      "source": [
        "###Logistic Regression"
      ]
    },
    {
      "cell_type": "code",
      "metadata": {
        "id": "_g_jQKU8Lg9I"
      },
      "source": [
        "from pyspark.ml.evaluation import RegressionEvaluator\n",
        "from pyspark.ml.classification import LogisticRegression\n",
        "from pyspark.ml.evaluation import BinaryClassificationEvaluator\n",
        "from pyspark.ml.tuning import CrossValidator, ParamGridBuilder, TrainValidationSplit\n",
        "#simple logistic regression clasiffier\n",
        "lr = LogisticRegression(featuresCol=\"word2vec\",labelCol=\"label\" , maxIter=10)\n",
        "\n",
        "#buit a paramiters grid for cross validattor\n",
        "lr_paramGrid = ParamGridBuilder() \\\n",
        "    .addGrid(lr.regParam, [0.1])\\\n",
        "    .addGrid(lr.elasticNetParam, [0.8])\\\n",
        "    .build()\n",
        "\n",
        "#evaluator\n",
        "evaluator=BinaryClassificationEvaluator()\n",
        "\n",
        "#build CrossValidator\n",
        "crossval = CrossValidator(estimator = lr,\n",
        "                          estimatorParamMaps=lr_paramGrid,\n",
        "                          evaluator=evaluator,\n",
        "                          numFolds=5)\n",
        "#fit and train model\n",
        "cvModel = crossval.fit(w2v_training_df)\n",
        "\n",
        "#get best model and save\n",
        "best_model = cvModel.bestModel\n",
        "#path = \"/FileStore/tables/\"\n",
        "#best_model.save(path + 'best_model')\n",
        "\n",
        "#predict\n",
        "prediction_train = best_model.transform(w2v_training_df)\n",
        "prediction_test = best_model.transform(w2v_test_df)\n",
        "\n",
        "#get trainning summary object\n",
        "trainningSummary = best_model.summary\n"
      ],
      "execution_count": null,
      "outputs": []
    },
    {
      "cell_type": "code",
      "metadata": {
        "colab": {
          "base_uri": "https://localhost:8080/"
        },
        "id": "E1NK-tiTZhKM",
        "outputId": "f95dcc78-8642-482d-cfec-544995d4be52"
      },
      "source": [
        "print('The prarmeters of best model:')\n",
        "print('regParam: ', best_model._java_obj.getRegParam())\n",
        "print('MaxIter: ', best_model._java_obj.getMaxIter())\n",
        "print('elasticNetParam: ', best_model._java_obj.getElasticNetParam())"
      ],
      "execution_count": null,
      "outputs": [
        {
          "output_type": "stream",
          "text": [
            "The prarmeters of best model:\n",
            "regParam:  0.1\n",
            "MaxIter:  10\n",
            "elasticNetParam:  0.8\n"
          ],
          "name": "stdout"
        }
      ]
    },
    {
      "cell_type": "code",
      "metadata": {
        "colab": {
          "base_uri": "https://localhost:8080/"
        },
        "id": "QrbVcEq-I5l1",
        "outputId": "cba64d13-4c8d-40d5-c323-85443fdd1007"
      },
      "source": [
        "trainningSummary.areaUnderROC"
      ],
      "execution_count": null,
      "outputs": [
        {
          "output_type": "execute_result",
          "data": {
            "text/plain": [
              "0.8306438397672284"
            ]
          },
          "metadata": {
            "tags": []
          },
          "execution_count": 50
        }
      ]
    },
    {
      "cell_type": "code",
      "metadata": {
        "colab": {
          "base_uri": "https://localhost:8080/"
        },
        "id": "5qRY8miR5IrT",
        "outputId": "7ddfc924-e553-4741-808b-7d14a1e11060"
      },
      "source": [
        "#Build a function for report training result\n",
        "def get_evaluation_result(predictions):\n",
        "  evaluator = BinaryClassificationEvaluator(\n",
        "      labelCol=\"label\", rawPredictionCol=\"rawPrediction\", metricName=\"areaUnderROC\")\n",
        "  AUC = evaluator.evaluate(predictions)\n",
        "\n",
        "  TP = predictions[(predictions[\"label\"] == 1) & (predictions[\"prediction\"] == 1.0)].count()\n",
        "  FP = predictions[(predictions[\"label\"] == 0) & (predictions[\"prediction\"] == 1.0)].count()\n",
        "  TN = predictions[(predictions[\"label\"] == 0) & (predictions[\"prediction\"] == 0.0)].count()\n",
        "  FN = predictions[(predictions[\"label\"] == 1) & (predictions[\"prediction\"] == 0.0)].count()\n",
        "\n",
        "  accuracy = (TP + TN)*1.0 / (TP + FP + TN + FN)\n",
        "  precision = TP*1.0 / (TP + FP)\n",
        "  recall = TP*1.0 / (TP + FN)\n",
        "\n",
        "  print (\"True Positives:\", TP)\n",
        "  print (\"False Positives:\", FP)\n",
        "  print (\"True Negatives:\", TN)\n",
        "  print (\"False Negatives:\", FN)\n",
        "  print (\"Test Accuracy:\", accuracy)\n",
        "  print (\"Test Precision:\", precision)\n",
        "  print (\"Test Recall:\", recall)\n",
        "  print (\"Test AUC of ROC:\", AUC)\n",
        "\n",
        "print(\"Prediction result summary for Logictic Classification Model:  \")\n",
        "get_evaluation_result(prediction_test)"
      ],
      "execution_count": null,
      "outputs": [
        {
          "output_type": "stream",
          "text": [
            "Prediction result summary for Random Forest Model:  \n",
            "True Positives: 432\n",
            "False Positives: 12813\n",
            "True Negatives: 960925\n",
            "False Negatives: 7619\n",
            "Test Accuracy: 0.9791890110807923\n",
            "Test Precision: 0.03261608154020385\n",
            "Test Recall: 0.05365793069183952\n",
            "Test AUC of ROC: 0.8277646201862976\n"
          ],
          "name": "stdout"
        }
      ]
    },
    {
      "cell_type": "code",
      "metadata": {
        "colab": {
          "base_uri": "https://localhost:8080/"
        },
        "id": "CpgiavLP_VVe",
        "outputId": "4609733f-0958-4380-ee18-8e066b8e1b24"
      },
      "source": [
        "accuracy_train = prediction_train.filter(prediction_train.label == prediction_train.prediction).count()/float(training.count())\n",
        "accuracy_test = prediction_test.filter(prediction_test.label == prediction_test.prediction).count()/float(test.count())\n",
        "\n",
        "print('Training set areaUnderROC: ' + str(evaluator.evaluate(prediction_train)))\n",
        "print('Testing set areaUnderROC ' + str(evaluator.evaluate(prediction_test)))\n",
        "print('Training set accuracy: ' + str(accuracy_train))\n",
        "print('Testing set accuracy ' + str(accuracy_test))"
      ],
      "execution_count": null,
      "outputs": [
        {
          "output_type": "stream",
          "text": [
            "Training set areaUnderROC: 0.8306544715348211\n",
            "Testing set areaUnderROC 0.832481631697487\n",
            "Training set accuracy: 0.016665914260945016\n",
            "Testing set accuracy 0.9732145948533081\n"
          ],
          "name": "stdout"
        }
      ]
    },
    {
      "cell_type": "markdown",
      "metadata": {
        "id": "K3AUiWk4ABYO"
      },
      "source": [
        "**Visualize AUC-ROC**"
      ]
    },
    {
      "cell_type": "code",
      "metadata": {
        "colab": {
          "base_uri": "https://localhost:8080/",
          "height": 334
        },
        "id": "SPkrAhiuAS8A",
        "outputId": "ad1f9765-9455-4cda-b5a8-97df1ce62457"
      },
      "source": [
        "#build a ROC curve\n",
        "plt.figure(figsize=(5,5))\n",
        "plt.plot([0, 1], [0, 1], 'r--')\n",
        "plt.plot(best_model.summary.roc.select('FPR').collect(), \\\n",
        "         best_model.summary.roc.select('TPR').collect())\n",
        "plt.xlabel('FPR')\n",
        "plt.ylabel('TPR')\n",
        "plt.show()"
      ],
      "execution_count": null,
      "outputs": [
        {
          "output_type": "display_data",
          "data": {
            "image/png": "[encoded data removed]",
            "text/plain": [
              "<Figure size 360x360 with 1 Axes>"
            ]
          },
          "metadata": {
            "tags": []
          }
        }
      ]
    },
    {
      "cell_type": "markdown",
      "metadata": {
        "id": "T1FEH3lP_NbI"
      },
      "source": [
        "###Random Forest"
      ]
    },
    {
      "cell_type": "code",
      "metadata": {
        "id": "wTxbUe4hdkwK"
      },
      "source": [
        "from time import time\n",
        "t0 = time()\n",
        "\n",
        "from pyspark.ml.classification import RandomForestClassifier\n",
        "rf = RandomForestClassifier(featuresCol='word2vec', labelCol='label', impurity='gini')\n",
        "\n",
        "\n",
        "\n",
        "#buit a paramiters grid for cross validattor\n",
        "rf_paramGrid = ParamGridBuilder() \\\n",
        "      .addGrid(rf.maxDepth, [5])\\\n",
        "      .addGrid(rf.numTrees, [15])\\\n",
        "      .build()\n",
        "\n",
        "#build CrossValidator\n",
        "rf_crossval = CrossValidator(estimator = rf,\n",
        "                          estimatorParamMaps=rf_paramGrid,\n",
        "                          evaluator=evaluator,\n",
        "                          numFolds=5)\n",
        "\n",
        "#fit training data into crossvalidator\n",
        "cv_rf_model = rf_crossval.fit(w2v_training_df)\n",
        "\n",
        "#get best model\n",
        "best_rf_model = cv_rf_model.bestModel\n",
        "\n",
        "#transform training and test data\n",
        "rf_prediction_training = best_rf_model.transform(w2v_training_df)\n",
        "rf_prediction_test = best_rf_model.transform(w2v_test_df)\n",
        "\n",
        "tt = time()- t0\n",
        "print('Trining use {} seconds.'.format(tt))\n",
        "#get trainning summary\n",
        "rf_trainingSummary = beat_rf_model.summary"
      ],
      "execution_count": null,
      "outputs": []
    },
    {
      "cell_type": "code",
      "metadata": {
        "colab": {
          "base_uri": "https://localhost:8080/"
        },
        "id": "JDW48ybU62PS",
        "outputId": "f1b38702-979e-4a01-a03f-a52de6a1fae8"
      },
      "source": [
        "print(\"Prediction Result Summary For Random Forest Model:  \")\n",
        "get_evaluation_result(rf_prediction_test)"
      ],
      "execution_count": null,
      "outputs": [
        {
          "output_type": "stream",
          "text": [
            "Prediction Result Summary For Random Forest Model:  \n",
            "True Positives: 4351\n",
            "False Positives: 82799\n",
            "True Negatives: 891159\n",
            "False Negatives: 3681\n",
            "Test Accuracy: 0.9119339300807544\n",
            "Test Precision: 0.04992541594951234\n",
            "Test Recall: 0.5417081673306773\n",
            "Test AUC of ROC: 0.8780404451465091\n"
          ],
          "name": "stdout"
        }
      ]
    },
    {
      "cell_type": "code",
      "metadata": {
        "colab": {
          "base_uri": "https://localhost:8080/"
        },
        "id": "6OtDoOXxuT9B",
        "outputId": "9161a1ce-30dc-4ec7-93b9-f42be0bb7b2b"
      },
      "source": [
        "rf_accuracy_train = rf_prediction_training.filter(rf_prediction_training.label == rf_prediction_training.prediction).count()/float(rf_prediction_training.count())\n",
        "rf_accuracy_test = rf_prediction_test.filter(rf_prediction_test.label == rf_prediction_test.prediction).count()/float(rf_prediction_test.count())\n",
        "\n",
        "print('Training set areaUnderROC: ' + str(evaluator.evaluate(rf_prediction_training)))\n",
        "print('Testing set areaUnderROC ' + str(evaluator.evaluate(rf_prediction_test)))\n",
        "print('Training set accuracy: ' + str(rf_accuracy_train))\n",
        "print('Testing set accuracy ' + str(rf_accuracy_test))"
      ],
      "execution_count": null,
      "outputs": [
        {
          "output_type": "stream",
          "text": [
            "Training set areaUnderROC: 0.8766808594258566\n",
            "Testing set areaUnderROC 0.8780404451465091\n",
            "Training set accuracy: 0.7894714935328456\n",
            "Testing set accuracy 0.9119339300807544\n"
          ],
          "name": "stdout"
        }
      ]
    },
    {
      "cell_type": "markdown",
      "metadata": {
        "id": "-Gz0pXgGA5Z2"
      },
      "source": [
        "##LDA"
      ]
    },
    {
      "cell_type": "code",
      "metadata": {
        "colab": {
          "base_uri": "https://localhost:8080/"
        },
        "id": "wtd6xT1YHPWU",
        "outputId": "1ba78d0a-d548-455c-e385-ced4a9bd22d0"
      },
      "source": [
        "clean_test_df.show()"
      ],
      "execution_count": null,
      "outputs": [
        {
          "output_type": "stream",
          "text": [
            "+--------------------+---------+--------------------+-------+------+-----+--------------------+--------------------+--------------------+\n",
            "|        creator_name|   userid|             comment|dog_cat|no_pet|label|               words|            filtered|        stem_comment|\n",
            "+--------------------+---------+--------------------+-------+------+-----+--------------------+--------------------+--------------------+\n",
            "|       Brian Barczyk| 124380.0|Arty will get bet...|   true| false|  1.0|[arty, will, get,...|[arty, get, bette...|[arti, get, bette...|\n",
            "|       Brian Barczyk| 410371.0|that happend to m...|   true| false|  1.0|[that, happend, t...|      [happend, dog]|      [happend, dog]|\n",
            "|       Brian Barczyk| 458191.0|I totally know ho...|   true| false|  1.0|[i, totally, know...|[totally, know, f...|[total, know, fee...|\n",
            "|       Brian Barczyk| 894048.0|I feel bad for yo...|   true| false|  1.0|[i, feel, bad, fo...|[feel, bad, dog, ...|[feel, bad, dog, ...|\n",
            "|       Cat Man Chris| 698142.0|my cat loves my f...|   true| false|  1.0|[my, cat, loves, ...|[cat, loves, file...|[cat, love, file,...|\n",
            "|    Cole & Marmalade| 441818.0|my cat is a Bagel...|   true| false|  1.0|[my, cat, is, a, ...| [cat, bagel, right]| [cat, bagel, right]|\n",
            "|    Cole & Marmalade| 784491.0|my cats know they...|   true| false|  1.0|[my, cats, know, ...|[cats, know, they...|[cat, know, theyr...|\n",
            "|    Cole & Marmalade| 788791.0|No idea why i wat...|   true| false|  1.0|[no, idea, why, i...|[idea, watched, 1...|[idea, watch, pit...|\n",
            "|    Cole & Marmalade|1395328.0|my cats sleep on ...|   true| false|  1.0|[my, cats, sleep,...|[cats, sleep, che...|[cat, sleep, ches...|\n",
            "|          Funny Pets| 753204.0|This is my dogs r...|   true| false|  1.0|[this, is, my, do...|[dogs, reaction, ...|[dog, reaction, p...|\n",
            "|           GoHerping|1766617.0|just got one and ...|   true| false|  1.0|[just, got, one, ...|[got, one, feedin...|[got, one, feed, ...|\n",
            "|     Gohan The Husky| 967274.0|I gave this type ...|   true| false|  1.0|[i, gave, this, t...|[gave, type, thin...|[gave, type, thin...|\n",
            "|     Gohan The Husky|2082910.0|It made my dog ba...|   true| false|  1.0|[it, made, my, do...|   [made, dog, bark]|   [made, dog, bark]|\n",
            "|Gone to the Snow ...|  11483.0|I wish my dog wil...|   true| false|  1.0|[i, wish, my, dog...|[wish, dog, let, ...|[wish, dog, let, ...|\n",
            "|Gone to the Snow ...| 779415.0|Do you now a lot ...|   true| false|  1.0|[do, you, now, a,...|[lot, dogs, want,...|[lot, dog, want, ...|\n",
            "|Gone to the Snow ...| 845819.0|I sent the packag...|   true| false|  1.0|[i, sent, the, pa...|[sent, package, n...|[sent, packag, na...|\n",
            "|Gone to the Snow ...|1802791.0|At the beginning ...|   true| false|  1.0|[at, the, beginni...|[beginning, shelb...|[begin, shelbi, c...|\n",
            "|  Greg Martinez  DVM| 352100.0|When he said some...|   true| false|  1.0|[when, he, said, ...|[said, someone, p...|[said, someon, pr...|\n",
            "|         Larry Krohn|2513431.0|Hey Larry somethi...|   true| false|  1.0|[hey, larry, some...|[hey, larry, some...|[hey, larri, some...|\n",
            "|    Louie The Beagle|2039110.0|Id love Turbo Dav...|   true| false|  1.0|[id, love, turbo,...|[id, love, turbo,...|[love, turbo, dav...|\n",
            "+--------------------+---------+--------------------+-------+------+-----+--------------------+--------------------+--------------------+\n",
            "only showing top 20 rows\n",
            "\n"
          ],
          "name": "stdout"
        }
      ]
    },
    {
      "cell_type": "markdown",
      "metadata": {
        "id": "apTnhCEdX3Cv"
      },
      "source": [
        "##Part3: Get Insights From Dog And Cat Owner's Comments"
      ]
    },
    {
      "cell_type": "markdown",
      "metadata": {
        "id": "fd7zKB7YkoI7"
      },
      "source": [
        "**Create an datafram only contains cat and dog owners (labeled and predicted 1), and we will build an LDA model to find the laten topic in their comments.**"
      ]
    },
    {
      "cell_type": "code",
      "metadata": {
        "id": "x-obiZKOYPMY"
      },
      "source": [
        "from pyspark.mllib.linalg import Vector, Vectors\n",
        "from pyspark.ml.clustering import LDA\n",
        "from pyspark.ml.feature import CountVectorizer, CountVectorizerModel, IDF\n",
        "\n",
        "\n",
        "#create a cat and dog dataframe with col userid and filtered\n",
        "pet_train = clean_training_df.filter(col('label')==1.0).select('userid', 'stem_comment')\n",
        "pet_test = clean_test_df.filter(col('label')==1.0).select('userid', 'stem_comment')\n",
        "pet_owner_df = pet_train.union(pet_test).dropDuplicates()\n",
        "pet_owner_df.cache()\n",
        "\n",
        "#TF\n",
        "cv = CountVectorizer(inputCol=\"stem_comment\", outputCol=\"raw_features\",\n",
        "                     vocabSize=5000,\n",
        "                     minTF=1, # minium number of times a word must appear in a document\n",
        "                     minDF=4) # minimun number of documents a word must appear in\n",
        "\n",
        "countVectorModel = cv.fit(pet_owner_df)\n",
        "result_cv = countVectorModel.transform(pet_owner_df)\n",
        "\n",
        "#IDF\n",
        "idf = IDF(inputCol='raw_features', outputCol='tf-idf')\n",
        "idfModel = idf.fit(result_cv)\n",
        "result_tfidf = idfModel.transform(result_cv).cache()\n",
        "\n",
        "print(len(result_tfidf.vocabulary))  # how many documents, vocab size"
      ],
      "execution_count": null,
      "outputs": []
    },
    {
      "cell_type": "code",
      "metadata": {
        "colab": {
          "base_uri": "https://localhost:8080/"
        },
        "id": "wUpF6_R58Tug",
        "outputId": "5993f651-e853-4e25-c096-bc5f513cca4e"
      },
      "source": [
        "#Vuild a dataframe to fit LDA model\n",
        "corpus = result_tfidf.select(['userid','tf-idf']).cache()\n",
        "\n",
        "#Build a LDA model\n",
        "from time import time\n",
        "t0 = time()\n",
        "\n",
        "numTopics = 10 # number of topics\n",
        "\n",
        "lda = LDA(k = numTopics, featuresCol='tf-idf',\n",
        "          maxIter = 50, # number of iterations\n",
        "          optimizer='em')\n",
        "\n",
        "ldaModel = lda.fit(corpus)\n",
        "\n",
        "t1 = time()-t0\n",
        "print('Train LDA model use %s seconds.'%round(t1, 3))"
      ],
      "execution_count": null,
      "outputs": [
        {
          "output_type": "stream",
          "text": [
            "+---------+--------------------+\n",
            "|   userid|              tf-idf|\n",
            "+---------+--------------------+\n",
            "|1707102.0|(5000,[1,6,172,10...|\n",
            "| 395102.0|(5000,[1,4,235],[...|\n",
            "| 568812.0|(5000,[1,15,23,30...|\n",
            "|  10476.0|(5000,[0,27,43,47...|\n",
            "|  18153.0|(5000,[1,3,40,100...|\n",
            "|1442087.0|(5000,[0,1,3,12,1...|\n",
            "| 624757.0|        (5000,[],[])|\n",
            "|1468609.0|(5000,[1,2,45,153...|\n",
            "|1218281.0|(5000,[1,2,5,12,1...|\n",
            "|  76676.0|(5000,[0,5,23,40,...|\n",
            "|1276471.0|(5000,[1,51,357,9...|\n",
            "|1254021.0|(5000,[1,2,11,19,...|\n",
            "| 325704.0|(5000,[0,113],[0....|\n",
            "|2343347.0|(5000,[9,83,183,4...|\n",
            "| 328575.0|(5000,[1,4,877,97...|\n",
            "| 169047.0|(5000,[15,17,59,8...|\n",
            "|2349236.0|(5000,[0,42,264,2...|\n",
            "|2360959.0|(5000,[0,797],[0....|\n",
            "|2290206.0|(5000,[0,50,107,1...|\n",
            "|1254944.0|(5000,[4,10,19,53...|\n",
            "+---------+--------------------+\n",
            "only showing top 20 rows\n",
            "\n"
          ],
          "name": "stdout"
        }
      ]
    },
    {
      "cell_type": "markdown",
      "metadata": {
        "id": "s7yeXmwPU8N4"
      },
      "source": [
        "**Notes: take about 45 mins to train."
      ]
    },
    {
      "cell_type": "markdown",
      "metadata": {
        "id": "5ToZvSPWVWtP"
      },
      "source": [
        "**Elvaluate LDA Model With loglikehood And logperplexity Metircs**"
      ]
    },
    {
      "cell_type": "code",
      "metadata": {
        "colab": {
          "base_uri": "https://localhost:8080/"
        },
        "id": "gMsXN2GPQLgd",
        "outputId": "f86b150f-58ac-4b38-f61f-8028eac2065b"
      },
      "source": [
        "#Evaluate the LDA model with metirc loglikelihood and logPerplexity\n",
        "#ll = ldaModel.logLikelihood(corpus)\n",
        "lp = ldaModel.logPerplexity(corpus)\n",
        "print('The lower bound on the log likelihood of the entire corpus: ', ll)\n",
        "print('The upper bound on perplecity: ', lp)"
      ],
      "execution_count": null,
      "outputs": [
        {
          "output_type": "stream",
          "text": [
            "The lower bound on the log likelihood of the entire corpus:  -21439828.798633683\n",
            "The upper bound on perplecity:  7.932862966385386\n"
          ],
          "name": "stdout"
        }
      ]
    },
    {
      "cell_type": "code",
      "metadata": {
        "colab": {
          "base_uri": "https://localhost:8080/"
        },
        "id": "V1ZI0sXIQz37",
        "outputId": "37154e89-649e-43c0-8f60-0ded932e69c2"
      },
      "source": [
        "# Print topics and top-weighted terms\n",
        "topicwords = 20\n",
        "topics = ldaModel.describeTopics(topicwords)\n",
        "print('The topics described by their top-weighted terms: ')\n",
        "topics.show(truncate=False)"
      ],
      "execution_count": null,
      "outputs": [
        {
          "output_type": "stream",
          "text": [
            "The topics described by their top-weighted terms: \n",
            "+-----+--------------------------------------------------------------------------------------------+-----------------------------------------------------------------------------------------------------------------------------------------------------------------------------------------------------------------------------------------------------------------------------------------------------------------------------------------------------------------------------------------------------------------------------------------------------------+\n",
            "|topic|termIndices                                                                                 |termWeights                                                                                                                                                                                                                                                                                                                                                                                                                                                |\n",
            "+-----+--------------------------------------------------------------------------------------------+-----------------------------------------------------------------------------------------------------------------------------------------------------------------------------------------------------------------------------------------------------------------------------------------------------------------------------------------------------------------------------------------------------------------------------------------------------------+\n",
            "|0    |[1, 53, 47, 2, 167, 21, 8, 5, 14, 202, 245, 18, 177, 4, 201, 299, 46, 30, 67, 6]            |[0.042823942203247777, 0.02577716468712916, 0.014959755616446661, 0.0141660554282211, 0.012768855045341004, 0.012499553014505215, 0.011828833582013226, 0.011780420281162022, 0.011603975448639253, 0.011434554824411202, 0.010316870256694746, 0.009586238264826791, 0.009503277220772016, 0.008982268672537708, 0.008701233922078973, 0.008287050314982924, 0.00771508949032126, 0.00709397924531465, 0.007011961600835364, 0.006967370400815354]        |\n",
            "|1    |[54, 42, 70, 0, 134, 158, 164, 138, 66, 95, 4, 194, 79, 2, 259, 13, 1, 105, 289, 44]        |[0.023086607587123994, 0.020918004996088223, 0.01814322907956789, 0.01371971960228954, 0.013440687678888294, 0.013083090732483491, 0.012583949291859402, 0.012224791290430248, 0.01077335201163198, 0.009537405095810072, 0.008923558263719529, 0.008875090798694066, 0.008714587968145412, 0.008370182971279392, 0.008247083766162509, 0.00813141065440521, 0.007827445906600835, 0.007741316769198422, 0.007516307623593838, 0.006902955212653442]       |\n",
            "|2    |[19, 12, 50, 48, 86, 109, 76, 96, 168, 184, 23, 107, 126, 102, 151, 229, 129, 5, 97, 52]    |[0.015347843730231235, 0.014912606113068053, 0.014702367384096795, 0.014443353305940935, 0.014380352249478699, 0.011589046038321652, 0.010281888309228621, 0.010212927544495416, 0.009916943777833585, 0.009815794507930065, 0.009371739544304874, 0.009348980248809736, 0.008872267394998763, 0.008781208234325457, 0.00859274753775662, 0.008421097686670981, 0.008139402018414869, 0.008088617970626462, 0.008042918487534339, 0.0077164440684727035]   |\n",
            "|3    |[1, 108, 68, 174, 162, 27, 156, 147, 213, 195, 49, 199, 185, 22, 2, 267, 251, 286, 283, 191]|[0.018803498642906966, 0.01662917432776159, 0.012878963452871404, 0.011922456084092951, 0.011914716076219205, 0.011782944666678154, 0.011675149016986464, 0.011048115977053892, 0.009886578199511735, 0.009830214508572039, 0.009653714657720771, 0.009402986076927007, 0.008982037576024716, 0.008854438081928201, 0.008576874944474022, 0.008385489129657243, 0.008328097553766827, 0.008276627821081963, 0.008183974926658505, 0.00803907833120853]     |\n",
            "|4    |[24, 28, 119, 34, 81, 0, 55, 59, 26, 165, 64, 221, 172, 91, 140, 80, 52, 268, 275, 223]     |[0.023276578099984777, 0.018294669465311726, 0.011049310011916875, 0.010923031891166756, 0.010580942062182769, 0.009559627513238484, 0.008633161531330974, 0.007803209246023638, 0.007787655150873395, 0.0074711962538777325, 0.0074430001847845635, 0.007394461118993723, 0.007267802417472806, 0.006952271020471865, 0.006889586507135106, 0.0067992032342563515, 0.006673110631968902, 0.006492456644879409, 0.006383142761170297, 0.006375965536508468]|\n",
            "|5    |[43, 69, 113, 219, 196, 207, 246, 39, 40, 8, 28, 314, 62, 344, 330, 362, 336, 212, 436, 354]|[0.02287479942865866, 0.013057879334129597, 0.013047552526923209, 0.008818073811337252, 0.008749751807818878, 0.008621700367685288, 0.007991632534038152, 0.007669529140578121, 0.007600023021793445, 0.0063464661739187295, 0.00605097814416966, 0.005961594379513513, 0.005892609132196329, 0.005744858387721217, 0.0054888192870132324, 0.005252585091683241, 0.005196356062563725, 0.005063915720647052, 0.004698812142251658, 0.004455710102060877]   |\n",
            "|6    |[36, 61, 94, 135, 40, 47, 35, 182, 20, 265, 87, 4, 9, 304, 352, 331, 329, 0, 323, 359]      |[0.02283291690609393, 0.018532885290132962, 0.016991433421280257, 0.014024422446014168, 0.013199911602396013, 0.012463717857606475, 0.011474173801970897, 0.011366134337079538, 0.010543918009161149, 0.00889630776321979, 0.008709412356794267, 0.008103023139748072, 0.007623748237021889, 0.007304034150594916, 0.007167428764758475, 0.00698319522325745, 0.006931700163481033, 0.006679976362104268, 0.006613459477512759, 0.0064298196343900585]     |\n",
            "|7    |[6, 2, 65, 0, 13, 155, 5, 186, 37, 214, 242, 243, 232, 60, 1, 3, 269, 287, 92, 117]         |[0.031937106752118964, 0.027215336853195365, 0.022995287433671043, 0.020578976436715385, 0.0200538487004746, 0.013431055463603136, 0.011417340184535595, 0.01125139947505783, 0.010696485629850096, 0.010423211909712439, 0.01009833565417595, 0.009494305197986141, 0.008892858604113044, 0.008881954033160274, 0.008720690722621063, 0.008308046326226452, 0.00820165625498594, 0.007755714327608315, 0.007504060124869066, 0.0074533788612964474]       |\n",
            "|8    |[17, 3, 63, 23, 73, 8, 82, 106, 74, 16, 15, 115, 99, 83, 128, 31, 57, 157, 142, 51]         |[0.03029170582271579, 0.028006384022650994, 0.019385002799065545, 0.018645669189512257, 0.016235992860840296, 0.01553170013618968, 0.015174896489840807, 0.014051428878955463, 0.014018369183534727, 0.013885271257178517, 0.013028054789839053, 0.012746496845632962, 0.012639031624025155, 0.012630337588168741, 0.012618753262458983, 0.012337695003945904, 0.012095585979027669, 0.011484465321898164, 0.011260908086123778, 0.009460440801050785]     |\n",
            "|9    |[25, 71, 45, 32, 7, 4, 183, 9, 236, 197, 41, 303, 315, 112, 263, 187, 276, 88, 351, 84]     |[0.022722374915307878, 0.01847892770074235, 0.011309803322371198, 0.01072737479508867, 0.0107240548912322, 0.010041259238360025, 0.009212066191890128, 0.008309458539655019, 0.007737605894806849, 0.006418291660665077, 0.006361842091463041, 0.006295794515314073, 0.006287780155694191, 0.006106812840338959, 0.006046982975843089, 0.005925691335773171, 0.00576504990615213, 0.005688227641164181, 0.005552742195688777, 0.005520635400327577]        |\n",
            "+-----+--------------------------------------------------------------------------------------------+-----------------------------------------------------------------------------------------------------------------------------------------------------------------------------------------------------------------------------------------------------------------------------------------------------------------------------------------------------------------------------------------------------------------------------------------------------------+\n",
            "\n"
          ],
          "name": "stdout"
        }
      ]
    },
    {
      "cell_type": "code",
      "metadata": {
        "colab": {
          "base_uri": "https://localhost:8080/"
        },
        "id": "Twmk3nJXXUlZ",
        "outputId": "99e6c94f-c70f-4059-b23a-39ea8a8bbff0"
      },
      "source": [
        "vocabArray = countVectorModel.vocabulary\n",
        "print(len(vocabArray))"
      ],
      "execution_count": null,
      "outputs": [
        {
          "output_type": "stream",
          "text": [
            "5000\n"
          ],
          "name": "stdout"
        }
      ]
    },
    {
      "cell_type": "code",
      "metadata": {
        "colab": {
          "base_uri": "https://localhost:8080/"
        },
        "id": "zf1f_qHa0qbv",
        "outputId": "8059bb6f-58f6-4b6f-ca49-469be488883d"
      },
      "source": [
        "ListOfIndexToWords = udf(lambda wl: list([vocabArray[w] for w in wl]))\n",
        "print(ListOfIndexToWords)"
      ],
      "execution_count": null,
      "outputs": [
        {
          "output_type": "stream",
          "text": [
            "<function <lambda> at 0x7fcde315a620>\n"
          ],
          "name": "stdout"
        }
      ]
    },
    {
      "cell_type": "code",
      "metadata": {
        "colab": {
          "base_uri": "https://localhost:8080/"
        },
        "id": "-ZMWXeJwfHcK",
        "outputId": "c1404247-24fa-416f-9e5e-95e0a74ee582"
      },
      "source": [
        "topics.select('topic', ListOfIndexToWords(topics.termIndices).alias('words')).show(truncate=False, n=numTopics)"
      ],
      "execution_count": null,
      "outputs": [
        {
          "output_type": "stream",
          "text": [
            "+-----+-----------------------------------------------------------------------------------------------------------------------------------+\n",
            "|topic|words                                                                                                                              |\n",
            "+-----+-----------------------------------------------------------------------------------------------------------------------------------+\n",
            "|0    |[cat, kitti, food, like, talk, think, video, one, make, meow, snake, realli, sound, get, kind, ball, say, also, that, look]        |\n",
            "|1    |[play, lol, hous, dog, sit, toy, bark, outsid, let, run, get, ran, around, like, crazi, puppi, cat, bite, lay, away]               |\n",
            "|2    |[day, got, cri, still, mom, guy, didnt, happen, heart, dad, die, went, came, said, hard, fuck, last, one, week, home]              |\n",
            "|3    |[cat, sleep, start, bed, face, watch, night, jump, wait, room, come, huski, head, see, like, hug, gonna, german, hear, door]       |\n",
            "|4    |[anim, peopl, owner, never, life, dog, pet, live, even, person, walk, kid, human, ever, attack, care, home, abus, protect, wouldnt]|\n",
            "|5    |[train, work, hate, school, teach, learn, collar, feel, use, video, peopl, zak, way, high, point, listen, allow, seem, book, chang]|\n",
            "|6    |[give, eat, treat, feed, use, food, good, water, tri, raw, great, get, dont, buy, hors, teeth, clean, dog, lick, bath]             |\n",
            "|7    |[look, like, she, dog, puppi, black, one, exactli, old, mix, bird, white, sweet, littl, cat, love, mine, ear, babi, tell]          |\n",
            "|8    |[name, love, kitten, die, happi, video, miss, sad, wish, much, year, lost, ago, pleas, remind, thank, hope, channel, pass, cute]   |\n",
            "|9    |[help, vet, need, take, know, get, leg, dont, fight, problem, put, scratch, pitbul, stop, wrong, wont, abl, someth, money, month]  |\n",
            "+-----+-----------------------------------------------------------------------------------------------------------------------------------+\n",
            "\n"
          ],
          "name": "stdout"
        }
      ]
    }
  ]
}